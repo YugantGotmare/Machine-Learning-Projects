{
  "nbformat": 4,
  "nbformat_minor": 0,
  "metadata": {
    "colab": {
      "name": "Crunchyroll_Animes_and_Movies.ipynb",
      "provenance": [],
      "collapsed_sections": [],
      "authorship_tag": "ABX9TyNW/C3Q238svHiXjI05SGW2",
      "include_colab_link": true
    },
    "kernelspec": {
      "name": "python3",
      "display_name": "Python 3"
    },
    "language_info": {
      "name": "python"
    }
  },
  "cells": [
    {
      "cell_type": "markdown",
      "metadata": {
        "id": "view-in-github",
        "colab_type": "text"
      },
      "source": [
        "<a href=\"https://colab.research.google.com/github/YugantGotmare/Machine-Learning-Projects/blob/master/Crunchyroll_Animes_and_Movies.ipynb\" target=\"_parent\"><img src=\"https://colab.research.google.com/assets/colab-badge.svg\" alt=\"Open In Colab\"/></a>"
      ]
    },
    {
      "cell_type": "code",
      "execution_count": 1,
      "metadata": {
        "id": "JDdEoujTb91k"
      },
      "outputs": [],
      "source": [
        "#  importing libaries\n",
        "import numpy as np\n",
        "import pandas as pd\n",
        "import difflib\n",
        "from sklearn.feature_extraction.text import TfidfVectorizer\n",
        "from sklearn.metrics.pairwise import cosine_similarity"
      ]
    },
    {
      "cell_type": "code",
      "source": [
        "# Loading dataset\n",
        "anime_data = pd.read_csv('/content/titles.csv')"
      ],
      "metadata": {
        "id": "3ICry84impUf"
      },
      "execution_count": 2,
      "outputs": []
    },
    {
      "cell_type": "code",
      "source": [
        "#  first 5 data from datset\n",
        "anime_data.head()"
      ],
      "metadata": {
        "colab": {
          "base_uri": "https://localhost:8080/",
          "height": 458
        },
        "id": "a2D_F3F3m3Dn",
        "outputId": "5378c003-13ff-4323-ba4b-777a43e87a41"
      },
      "execution_count": 3,
      "outputs": [
        {
          "output_type": "execute_result",
          "data": {
            "text/plain": [
              "        id                      title  type  \\\n",
              "0  ts21930            Lupin the Third  SHOW   \n",
              "1  ts25177         Mobile Suit Gundam  SHOW   \n",
              "2  ts35087         Galaxy Express 999  SHOW   \n",
              "3  ts82387              Lupin the 3rd  SHOW   \n",
              "4   ts2846  Chōdenji Machine Voltes V  SHOW   \n",
              "\n",
              "                                         description  release_year  \\\n",
              "0  Arsene Lupin III is the grandson of the master...          1971   \n",
              "1  Mobile Suit Gundam is a televised anime series...          1979   \n",
              "2  Galaxy Express 999 is a manga written and draw...          1978   \n",
              "3  The master thief Lupin III and his cronies con...          1977   \n",
              "4  Chōdenji Machine Voltes V is a Japanese anime ...          1977   \n",
              "\n",
              "  age_certification  runtime  \\\n",
              "0             TV-14       23   \n",
              "1             TV-Y7       25   \n",
              "2             TV-PG       24   \n",
              "3             TV-14       24   \n",
              "4             TV-PG       24   \n",
              "\n",
              "                                              genres production_countries  \\\n",
              "0  ['scifi', 'animation', 'action', 'comedy', 'cr...               ['JP']   \n",
              "1  ['scifi', 'war', 'animation', 'action', 'drama...               ['JP']   \n",
              "2          ['scifi', 'action', 'drama', 'animation']               ['JP']   \n",
              "3  ['scifi', 'animation', 'action', 'comedy', 'cr...               ['JP']   \n",
              "4          ['drama', 'action', 'scifi', 'animation']               ['JP']   \n",
              "\n",
              "   seasons    imdb_id  imdb_score  imdb_votes  tmdb_popularity  tmdb_score  \\\n",
              "0      6.0  tt0159175         7.9      2116.0           45.829         8.0   \n",
              "1      1.0  tt0159172         7.9      2281.0           41.250         8.1   \n",
              "2      1.0  tt0185066         7.8       459.0            5.064         8.3   \n",
              "3      4.0  tt0159192         8.0      1738.0            0.600         NaN   \n",
              "4      1.0  tt0159855         8.1       207.0           12.625         7.3   \n",
              "\n",
              "   index  \n",
              "0      1  \n",
              "1      2  \n",
              "2      3  \n",
              "3      4  \n",
              "4      5  "
            ],
            "text/html": [
              "\n",
              "  <div id=\"df-ce7fcc9c-eaec-4aa9-880c-3af343a528e2\">\n",
              "    <div class=\"colab-df-container\">\n",
              "      <div>\n",
              "<style scoped>\n",
              "    .dataframe tbody tr th:only-of-type {\n",
              "        vertical-align: middle;\n",
              "    }\n",
              "\n",
              "    .dataframe tbody tr th {\n",
              "        vertical-align: top;\n",
              "    }\n",
              "\n",
              "    .dataframe thead th {\n",
              "        text-align: right;\n",
              "    }\n",
              "</style>\n",
              "<table border=\"1\" class=\"dataframe\">\n",
              "  <thead>\n",
              "    <tr style=\"text-align: right;\">\n",
              "      <th></th>\n",
              "      <th>id</th>\n",
              "      <th>title</th>\n",
              "      <th>type</th>\n",
              "      <th>description</th>\n",
              "      <th>release_year</th>\n",
              "      <th>age_certification</th>\n",
              "      <th>runtime</th>\n",
              "      <th>genres</th>\n",
              "      <th>production_countries</th>\n",
              "      <th>seasons</th>\n",
              "      <th>imdb_id</th>\n",
              "      <th>imdb_score</th>\n",
              "      <th>imdb_votes</th>\n",
              "      <th>tmdb_popularity</th>\n",
              "      <th>tmdb_score</th>\n",
              "      <th>index</th>\n",
              "    </tr>\n",
              "  </thead>\n",
              "  <tbody>\n",
              "    <tr>\n",
              "      <th>0</th>\n",
              "      <td>ts21930</td>\n",
              "      <td>Lupin the Third</td>\n",
              "      <td>SHOW</td>\n",
              "      <td>Arsene Lupin III is the grandson of the master...</td>\n",
              "      <td>1971</td>\n",
              "      <td>TV-14</td>\n",
              "      <td>23</td>\n",
              "      <td>['scifi', 'animation', 'action', 'comedy', 'cr...</td>\n",
              "      <td>['JP']</td>\n",
              "      <td>6.0</td>\n",
              "      <td>tt0159175</td>\n",
              "      <td>7.9</td>\n",
              "      <td>2116.0</td>\n",
              "      <td>45.829</td>\n",
              "      <td>8.0</td>\n",
              "      <td>1</td>\n",
              "    </tr>\n",
              "    <tr>\n",
              "      <th>1</th>\n",
              "      <td>ts25177</td>\n",
              "      <td>Mobile Suit Gundam</td>\n",
              "      <td>SHOW</td>\n",
              "      <td>Mobile Suit Gundam is a televised anime series...</td>\n",
              "      <td>1979</td>\n",
              "      <td>TV-Y7</td>\n",
              "      <td>25</td>\n",
              "      <td>['scifi', 'war', 'animation', 'action', 'drama...</td>\n",
              "      <td>['JP']</td>\n",
              "      <td>1.0</td>\n",
              "      <td>tt0159172</td>\n",
              "      <td>7.9</td>\n",
              "      <td>2281.0</td>\n",
              "      <td>41.250</td>\n",
              "      <td>8.1</td>\n",
              "      <td>2</td>\n",
              "    </tr>\n",
              "    <tr>\n",
              "      <th>2</th>\n",
              "      <td>ts35087</td>\n",
              "      <td>Galaxy Express 999</td>\n",
              "      <td>SHOW</td>\n",
              "      <td>Galaxy Express 999 is a manga written and draw...</td>\n",
              "      <td>1978</td>\n",
              "      <td>TV-PG</td>\n",
              "      <td>24</td>\n",
              "      <td>['scifi', 'action', 'drama', 'animation']</td>\n",
              "      <td>['JP']</td>\n",
              "      <td>1.0</td>\n",
              "      <td>tt0185066</td>\n",
              "      <td>7.8</td>\n",
              "      <td>459.0</td>\n",
              "      <td>5.064</td>\n",
              "      <td>8.3</td>\n",
              "      <td>3</td>\n",
              "    </tr>\n",
              "    <tr>\n",
              "      <th>3</th>\n",
              "      <td>ts82387</td>\n",
              "      <td>Lupin the 3rd</td>\n",
              "      <td>SHOW</td>\n",
              "      <td>The master thief Lupin III and his cronies con...</td>\n",
              "      <td>1977</td>\n",
              "      <td>TV-14</td>\n",
              "      <td>24</td>\n",
              "      <td>['scifi', 'animation', 'action', 'comedy', 'cr...</td>\n",
              "      <td>['JP']</td>\n",
              "      <td>4.0</td>\n",
              "      <td>tt0159192</td>\n",
              "      <td>8.0</td>\n",
              "      <td>1738.0</td>\n",
              "      <td>0.600</td>\n",
              "      <td>NaN</td>\n",
              "      <td>4</td>\n",
              "    </tr>\n",
              "    <tr>\n",
              "      <th>4</th>\n",
              "      <td>ts2846</td>\n",
              "      <td>Chōdenji Machine Voltes V</td>\n",
              "      <td>SHOW</td>\n",
              "      <td>Chōdenji Machine Voltes V is a Japanese anime ...</td>\n",
              "      <td>1977</td>\n",
              "      <td>TV-PG</td>\n",
              "      <td>24</td>\n",
              "      <td>['drama', 'action', 'scifi', 'animation']</td>\n",
              "      <td>['JP']</td>\n",
              "      <td>1.0</td>\n",
              "      <td>tt0159855</td>\n",
              "      <td>8.1</td>\n",
              "      <td>207.0</td>\n",
              "      <td>12.625</td>\n",
              "      <td>7.3</td>\n",
              "      <td>5</td>\n",
              "    </tr>\n",
              "  </tbody>\n",
              "</table>\n",
              "</div>\n",
              "      <button class=\"colab-df-convert\" onclick=\"convertToInteractive('df-ce7fcc9c-eaec-4aa9-880c-3af343a528e2')\"\n",
              "              title=\"Convert this dataframe to an interactive table.\"\n",
              "              style=\"display:none;\">\n",
              "        \n",
              "  <svg xmlns=\"http://www.w3.org/2000/svg\" height=\"24px\"viewBox=\"0 0 24 24\"\n",
              "       width=\"24px\">\n",
              "    <path d=\"M0 0h24v24H0V0z\" fill=\"none\"/>\n",
              "    <path d=\"M18.56 5.44l.94 2.06.94-2.06 2.06-.94-2.06-.94-.94-2.06-.94 2.06-2.06.94zm-11 1L8.5 8.5l.94-2.06 2.06-.94-2.06-.94L8.5 2.5l-.94 2.06-2.06.94zm10 10l.94 2.06.94-2.06 2.06-.94-2.06-.94-.94-2.06-.94 2.06-2.06.94z\"/><path d=\"M17.41 7.96l-1.37-1.37c-.4-.4-.92-.59-1.43-.59-.52 0-1.04.2-1.43.59L10.3 9.45l-7.72 7.72c-.78.78-.78 2.05 0 2.83L4 21.41c.39.39.9.59 1.41.59.51 0 1.02-.2 1.41-.59l7.78-7.78 2.81-2.81c.8-.78.8-2.07 0-2.86zM5.41 20L4 18.59l7.72-7.72 1.47 1.35L5.41 20z\"/>\n",
              "  </svg>\n",
              "      </button>\n",
              "      \n",
              "  <style>\n",
              "    .colab-df-container {\n",
              "      display:flex;\n",
              "      flex-wrap:wrap;\n",
              "      gap: 12px;\n",
              "    }\n",
              "\n",
              "    .colab-df-convert {\n",
              "      background-color: #E8F0FE;\n",
              "      border: none;\n",
              "      border-radius: 50%;\n",
              "      cursor: pointer;\n",
              "      display: none;\n",
              "      fill: #1967D2;\n",
              "      height: 32px;\n",
              "      padding: 0 0 0 0;\n",
              "      width: 32px;\n",
              "    }\n",
              "\n",
              "    .colab-df-convert:hover {\n",
              "      background-color: #E2EBFA;\n",
              "      box-shadow: 0px 1px 2px rgba(60, 64, 67, 0.3), 0px 1px 3px 1px rgba(60, 64, 67, 0.15);\n",
              "      fill: #174EA6;\n",
              "    }\n",
              "\n",
              "    [theme=dark] .colab-df-convert {\n",
              "      background-color: #3B4455;\n",
              "      fill: #D2E3FC;\n",
              "    }\n",
              "\n",
              "    [theme=dark] .colab-df-convert:hover {\n",
              "      background-color: #434B5C;\n",
              "      box-shadow: 0px 1px 3px 1px rgba(0, 0, 0, 0.15);\n",
              "      filter: drop-shadow(0px 1px 2px rgba(0, 0, 0, 0.3));\n",
              "      fill: #FFFFFF;\n",
              "    }\n",
              "  </style>\n",
              "\n",
              "      <script>\n",
              "        const buttonEl =\n",
              "          document.querySelector('#df-ce7fcc9c-eaec-4aa9-880c-3af343a528e2 button.colab-df-convert');\n",
              "        buttonEl.style.display =\n",
              "          google.colab.kernel.accessAllowed ? 'block' : 'none';\n",
              "\n",
              "        async function convertToInteractive(key) {\n",
              "          const element = document.querySelector('#df-ce7fcc9c-eaec-4aa9-880c-3af343a528e2');\n",
              "          const dataTable =\n",
              "            await google.colab.kernel.invokeFunction('convertToInteractive',\n",
              "                                                     [key], {});\n",
              "          if (!dataTable) return;\n",
              "\n",
              "          const docLinkHtml = 'Like what you see? Visit the ' +\n",
              "            '<a target=\"_blank\" href=https://colab.research.google.com/notebooks/data_table.ipynb>data table notebook</a>'\n",
              "            + ' to learn more about interactive tables.';\n",
              "          element.innerHTML = '';\n",
              "          dataTable['output_type'] = 'display_data';\n",
              "          await google.colab.output.renderOutput(dataTable, element);\n",
              "          const docLink = document.createElement('div');\n",
              "          docLink.innerHTML = docLinkHtml;\n",
              "          element.appendChild(docLink);\n",
              "        }\n",
              "      </script>\n",
              "    </div>\n",
              "  </div>\n",
              "  "
            ]
          },
          "metadata": {},
          "execution_count": 3
        }
      ]
    },
    {
      "cell_type": "code",
      "source": [
        "#  last 5 data from datset\n",
        "anime_data.tail()"
      ],
      "metadata": {
        "colab": {
          "base_uri": "https://localhost:8080/",
          "height": 458
        },
        "id": "nA2WQ_4xm57w",
        "outputId": "047df973-ede4-4591-b419-e2a80c01f0ad"
      },
      "execution_count": 4,
      "outputs": [
        {
          "output_type": "execute_result",
          "data": {
            "text/plain": [
              "            id                            title  type  \\\n",
              "1076  ts252949         Farewell, My Dear Cramer  SHOW   \n",
              "1077  ts267874  I★Chu: Halfway Through the Idol  SHOW   \n",
              "1078  ts268254             ABCiee Working Diary  SHOW   \n",
              "1079  ts285889       GLOOMY The Naughty Grizzly  SHOW   \n",
              "1080  ts255190                          Idolls!  SHOW   \n",
              "\n",
              "                                            description  release_year  \\\n",
              "1076  With no soccer accomplishments to speak of dur...          2021   \n",
              "1077  Youths aiming to become full-fledged idols enr...          2021   \n",
              "1078  ABCiee is a bit klutzy and ditsy, but he's ful...          2021   \n",
              "1079  Gloomy, an abandoned little bear, is rescued b...          2021   \n",
              "1080  Go for Hoi Hoi Hall! This is the passionate bu...          2021   \n",
              "\n",
              "     age_certification  runtime                            genres  \\\n",
              "1076             TV-14       23               ['comedy', 'drama']   \n",
              "1077             TV-14       24           ['comedy', 'animation']   \n",
              "1078               NaN        2                        ['comedy']   \n",
              "1079               NaN        1           ['comedy', 'animation']   \n",
              "1080             TV-14        8  ['comedy', 'animation', 'music']   \n",
              "\n",
              "     production_countries  seasons     imdb_id  imdb_score  imdb_votes  \\\n",
              "1076               ['JP']      1.0         NaN         NaN         NaN   \n",
              "1077               ['JP']      1.0  tt13415416         6.5        24.0   \n",
              "1078               ['JP']      1.0  tt13985984         5.6        11.0   \n",
              "1079               ['JP']      1.0  tt14827932         4.0        19.0   \n",
              "1080               ['JP']      1.0  tt13592988         4.7        15.0   \n",
              "\n",
              "      tmdb_popularity  tmdb_score  index  \n",
              "1076           12.235         3.6   1077  \n",
              "1077            6.699         7.0   1078  \n",
              "1078            3.696         5.0   1079  \n",
              "1079            1.878         3.0   1080  \n",
              "1080            8.032         2.0   1081  "
            ],
            "text/html": [
              "\n",
              "  <div id=\"df-bb117324-e89f-47ac-baf7-20cba056d50b\">\n",
              "    <div class=\"colab-df-container\">\n",
              "      <div>\n",
              "<style scoped>\n",
              "    .dataframe tbody tr th:only-of-type {\n",
              "        vertical-align: middle;\n",
              "    }\n",
              "\n",
              "    .dataframe tbody tr th {\n",
              "        vertical-align: top;\n",
              "    }\n",
              "\n",
              "    .dataframe thead th {\n",
              "        text-align: right;\n",
              "    }\n",
              "</style>\n",
              "<table border=\"1\" class=\"dataframe\">\n",
              "  <thead>\n",
              "    <tr style=\"text-align: right;\">\n",
              "      <th></th>\n",
              "      <th>id</th>\n",
              "      <th>title</th>\n",
              "      <th>type</th>\n",
              "      <th>description</th>\n",
              "      <th>release_year</th>\n",
              "      <th>age_certification</th>\n",
              "      <th>runtime</th>\n",
              "      <th>genres</th>\n",
              "      <th>production_countries</th>\n",
              "      <th>seasons</th>\n",
              "      <th>imdb_id</th>\n",
              "      <th>imdb_score</th>\n",
              "      <th>imdb_votes</th>\n",
              "      <th>tmdb_popularity</th>\n",
              "      <th>tmdb_score</th>\n",
              "      <th>index</th>\n",
              "    </tr>\n",
              "  </thead>\n",
              "  <tbody>\n",
              "    <tr>\n",
              "      <th>1076</th>\n",
              "      <td>ts252949</td>\n",
              "      <td>Farewell, My Dear Cramer</td>\n",
              "      <td>SHOW</td>\n",
              "      <td>With no soccer accomplishments to speak of dur...</td>\n",
              "      <td>2021</td>\n",
              "      <td>TV-14</td>\n",
              "      <td>23</td>\n",
              "      <td>['comedy', 'drama']</td>\n",
              "      <td>['JP']</td>\n",
              "      <td>1.0</td>\n",
              "      <td>NaN</td>\n",
              "      <td>NaN</td>\n",
              "      <td>NaN</td>\n",
              "      <td>12.235</td>\n",
              "      <td>3.6</td>\n",
              "      <td>1077</td>\n",
              "    </tr>\n",
              "    <tr>\n",
              "      <th>1077</th>\n",
              "      <td>ts267874</td>\n",
              "      <td>I★Chu: Halfway Through the Idol</td>\n",
              "      <td>SHOW</td>\n",
              "      <td>Youths aiming to become full-fledged idols enr...</td>\n",
              "      <td>2021</td>\n",
              "      <td>TV-14</td>\n",
              "      <td>24</td>\n",
              "      <td>['comedy', 'animation']</td>\n",
              "      <td>['JP']</td>\n",
              "      <td>1.0</td>\n",
              "      <td>tt13415416</td>\n",
              "      <td>6.5</td>\n",
              "      <td>24.0</td>\n",
              "      <td>6.699</td>\n",
              "      <td>7.0</td>\n",
              "      <td>1078</td>\n",
              "    </tr>\n",
              "    <tr>\n",
              "      <th>1078</th>\n",
              "      <td>ts268254</td>\n",
              "      <td>ABCiee Working Diary</td>\n",
              "      <td>SHOW</td>\n",
              "      <td>ABCiee is a bit klutzy and ditsy, but he's ful...</td>\n",
              "      <td>2021</td>\n",
              "      <td>NaN</td>\n",
              "      <td>2</td>\n",
              "      <td>['comedy']</td>\n",
              "      <td>['JP']</td>\n",
              "      <td>1.0</td>\n",
              "      <td>tt13985984</td>\n",
              "      <td>5.6</td>\n",
              "      <td>11.0</td>\n",
              "      <td>3.696</td>\n",
              "      <td>5.0</td>\n",
              "      <td>1079</td>\n",
              "    </tr>\n",
              "    <tr>\n",
              "      <th>1079</th>\n",
              "      <td>ts285889</td>\n",
              "      <td>GLOOMY The Naughty Grizzly</td>\n",
              "      <td>SHOW</td>\n",
              "      <td>Gloomy, an abandoned little bear, is rescued b...</td>\n",
              "      <td>2021</td>\n",
              "      <td>NaN</td>\n",
              "      <td>1</td>\n",
              "      <td>['comedy', 'animation']</td>\n",
              "      <td>['JP']</td>\n",
              "      <td>1.0</td>\n",
              "      <td>tt14827932</td>\n",
              "      <td>4.0</td>\n",
              "      <td>19.0</td>\n",
              "      <td>1.878</td>\n",
              "      <td>3.0</td>\n",
              "      <td>1080</td>\n",
              "    </tr>\n",
              "    <tr>\n",
              "      <th>1080</th>\n",
              "      <td>ts255190</td>\n",
              "      <td>Idolls!</td>\n",
              "      <td>SHOW</td>\n",
              "      <td>Go for Hoi Hoi Hall! This is the passionate bu...</td>\n",
              "      <td>2021</td>\n",
              "      <td>TV-14</td>\n",
              "      <td>8</td>\n",
              "      <td>['comedy', 'animation', 'music']</td>\n",
              "      <td>['JP']</td>\n",
              "      <td>1.0</td>\n",
              "      <td>tt13592988</td>\n",
              "      <td>4.7</td>\n",
              "      <td>15.0</td>\n",
              "      <td>8.032</td>\n",
              "      <td>2.0</td>\n",
              "      <td>1081</td>\n",
              "    </tr>\n",
              "  </tbody>\n",
              "</table>\n",
              "</div>\n",
              "      <button class=\"colab-df-convert\" onclick=\"convertToInteractive('df-bb117324-e89f-47ac-baf7-20cba056d50b')\"\n",
              "              title=\"Convert this dataframe to an interactive table.\"\n",
              "              style=\"display:none;\">\n",
              "        \n",
              "  <svg xmlns=\"http://www.w3.org/2000/svg\" height=\"24px\"viewBox=\"0 0 24 24\"\n",
              "       width=\"24px\">\n",
              "    <path d=\"M0 0h24v24H0V0z\" fill=\"none\"/>\n",
              "    <path d=\"M18.56 5.44l.94 2.06.94-2.06 2.06-.94-2.06-.94-.94-2.06-.94 2.06-2.06.94zm-11 1L8.5 8.5l.94-2.06 2.06-.94-2.06-.94L8.5 2.5l-.94 2.06-2.06.94zm10 10l.94 2.06.94-2.06 2.06-.94-2.06-.94-.94-2.06-.94 2.06-2.06.94z\"/><path d=\"M17.41 7.96l-1.37-1.37c-.4-.4-.92-.59-1.43-.59-.52 0-1.04.2-1.43.59L10.3 9.45l-7.72 7.72c-.78.78-.78 2.05 0 2.83L4 21.41c.39.39.9.59 1.41.59.51 0 1.02-.2 1.41-.59l7.78-7.78 2.81-2.81c.8-.78.8-2.07 0-2.86zM5.41 20L4 18.59l7.72-7.72 1.47 1.35L5.41 20z\"/>\n",
              "  </svg>\n",
              "      </button>\n",
              "      \n",
              "  <style>\n",
              "    .colab-df-container {\n",
              "      display:flex;\n",
              "      flex-wrap:wrap;\n",
              "      gap: 12px;\n",
              "    }\n",
              "\n",
              "    .colab-df-convert {\n",
              "      background-color: #E8F0FE;\n",
              "      border: none;\n",
              "      border-radius: 50%;\n",
              "      cursor: pointer;\n",
              "      display: none;\n",
              "      fill: #1967D2;\n",
              "      height: 32px;\n",
              "      padding: 0 0 0 0;\n",
              "      width: 32px;\n",
              "    }\n",
              "\n",
              "    .colab-df-convert:hover {\n",
              "      background-color: #E2EBFA;\n",
              "      box-shadow: 0px 1px 2px rgba(60, 64, 67, 0.3), 0px 1px 3px 1px rgba(60, 64, 67, 0.15);\n",
              "      fill: #174EA6;\n",
              "    }\n",
              "\n",
              "    [theme=dark] .colab-df-convert {\n",
              "      background-color: #3B4455;\n",
              "      fill: #D2E3FC;\n",
              "    }\n",
              "\n",
              "    [theme=dark] .colab-df-convert:hover {\n",
              "      background-color: #434B5C;\n",
              "      box-shadow: 0px 1px 3px 1px rgba(0, 0, 0, 0.15);\n",
              "      filter: drop-shadow(0px 1px 2px rgba(0, 0, 0, 0.3));\n",
              "      fill: #FFFFFF;\n",
              "    }\n",
              "  </style>\n",
              "\n",
              "      <script>\n",
              "        const buttonEl =\n",
              "          document.querySelector('#df-bb117324-e89f-47ac-baf7-20cba056d50b button.colab-df-convert');\n",
              "        buttonEl.style.display =\n",
              "          google.colab.kernel.accessAllowed ? 'block' : 'none';\n",
              "\n",
              "        async function convertToInteractive(key) {\n",
              "          const element = document.querySelector('#df-bb117324-e89f-47ac-baf7-20cba056d50b');\n",
              "          const dataTable =\n",
              "            await google.colab.kernel.invokeFunction('convertToInteractive',\n",
              "                                                     [key], {});\n",
              "          if (!dataTable) return;\n",
              "\n",
              "          const docLinkHtml = 'Like what you see? Visit the ' +\n",
              "            '<a target=\"_blank\" href=https://colab.research.google.com/notebooks/data_table.ipynb>data table notebook</a>'\n",
              "            + ' to learn more about interactive tables.';\n",
              "          element.innerHTML = '';\n",
              "          dataTable['output_type'] = 'display_data';\n",
              "          await google.colab.output.renderOutput(dataTable, element);\n",
              "          const docLink = document.createElement('div');\n",
              "          docLink.innerHTML = docLinkHtml;\n",
              "          element.appendChild(docLink);\n",
              "        }\n",
              "      </script>\n",
              "    </div>\n",
              "  </div>\n",
              "  "
            ]
          },
          "metadata": {},
          "execution_count": 4
        }
      ]
    },
    {
      "cell_type": "code",
      "source": [
        "anime_data.shape"
      ],
      "metadata": {
        "colab": {
          "base_uri": "https://localhost:8080/"
        },
        "id": "upZBCEVTm9SR",
        "outputId": "32645603-ce76-4d7c-c248-fde868d89feb"
      },
      "execution_count": 6,
      "outputs": [
        {
          "output_type": "execute_result",
          "data": {
            "text/plain": [
              "(1081, 16)"
            ]
          },
          "metadata": {},
          "execution_count": 6
        }
      ]
    },
    {
      "cell_type": "code",
      "source": [
        "anime_data.info()"
      ],
      "metadata": {
        "colab": {
          "base_uri": "https://localhost:8080/"
        },
        "id": "7Ck9LpUynAvv",
        "outputId": "6403b658-b32d-4a2b-b0b8-c8c12376bb93"
      },
      "execution_count": 8,
      "outputs": [
        {
          "output_type": "stream",
          "name": "stdout",
          "text": [
            "<class 'pandas.core.frame.DataFrame'>\n",
            "RangeIndex: 1081 entries, 0 to 1080\n",
            "Data columns (total 16 columns):\n",
            " #   Column                Non-Null Count  Dtype  \n",
            "---  ------                --------------  -----  \n",
            " 0   id                    1081 non-null   object \n",
            " 1   title                 1081 non-null   object \n",
            " 2   type                  1081 non-null   object \n",
            " 3   description           1050 non-null   object \n",
            " 4   release_year          1081 non-null   int64  \n",
            " 5   age_certification     750 non-null    object \n",
            " 6   runtime               1081 non-null   int64  \n",
            " 7   genres                1081 non-null   object \n",
            " 8   production_countries  1081 non-null   object \n",
            " 9   seasons               1080 non-null   float64\n",
            " 10  imdb_id               927 non-null    object \n",
            " 11  imdb_score            907 non-null    float64\n",
            " 12  imdb_votes            907 non-null    float64\n",
            " 13  tmdb_popularity       1068 non-null   float64\n",
            " 14  tmdb_score            1006 non-null   float64\n",
            " 15  index                 1081 non-null   int64  \n",
            "dtypes: float64(5), int64(3), object(8)\n",
            "memory usage: 135.2+ KB\n"
          ]
        }
      ]
    },
    {
      "cell_type": "code",
      "source": [
        "# Selecting features\n",
        "anime_features = [\"title\", \"description\", \"genres\"]\n",
        "print(anime_features)"
      ],
      "metadata": {
        "colab": {
          "base_uri": "https://localhost:8080/"
        },
        "id": "0lSaJjrWnFbP",
        "outputId": "e3e32c30-4031-48f8-ab48-6dab86b40b03"
      },
      "execution_count": 9,
      "outputs": [
        {
          "output_type": "stream",
          "name": "stdout",
          "text": [
            "['title', 'description', 'genres']\n"
          ]
        }
      ]
    },
    {
      "cell_type": "code",
      "source": [
        "for features in anime_features:\n",
        "  anime_data[features] = anime_data[features].fillna('')"
      ],
      "metadata": {
        "id": "O93zNJ8jnh3s"
      },
      "execution_count": 11,
      "outputs": []
    },
    {
      "cell_type": "code",
      "source": [
        "# Combining all features\n",
        "combining_anime_features = anime_data['title']+' '+anime_data['description']+' '+anime_data['genres']\n",
        "print(combining_anime_features)"
      ],
      "metadata": {
        "colab": {
          "base_uri": "https://localhost:8080/"
        },
        "id": "YZgPh6Ddn5GK",
        "outputId": "a9866428-98d0-4c40-b673-e38e68ba3f9f"
      },
      "execution_count": 12,
      "outputs": [
        {
          "output_type": "stream",
          "name": "stdout",
          "text": [
            "0       Lupin the Third Arsene Lupin III is the grands...\n",
            "1       Mobile Suit Gundam Mobile Suit Gundam is a tel...\n",
            "2       Galaxy Express 999 Galaxy Express 999 is a man...\n",
            "3       Lupin the 3rd The master thief Lupin III and h...\n",
            "4       Chōdenji Machine Voltes V Chōdenji Machine Vol...\n",
            "                              ...                        \n",
            "1076    Farewell, My Dear Cramer With no soccer accomp...\n",
            "1077    I★Chu: Halfway Through the Idol Youths aiming ...\n",
            "1078    ABCiee Working Diary ABCiee is a bit klutzy an...\n",
            "1079    GLOOMY The Naughty Grizzly Gloomy, an abandone...\n",
            "1080    Idolls! Go for Hoi Hoi Hall! This is the passi...\n",
            "Length: 1081, dtype: object\n"
          ]
        }
      ]
    },
    {
      "cell_type": "code",
      "source": [
        "vectorizer = TfidfVectorizer()"
      ],
      "metadata": {
        "id": "-lqJKoyEokh3"
      },
      "execution_count": 13,
      "outputs": []
    },
    {
      "cell_type": "code",
      "source": [
        "#  converting features in number\n",
        "feature_vectors = vectorizer.fit_transform(combining_anime_features)\n",
        "print(feature_vectors)"
      ],
      "metadata": {
        "colab": {
          "base_uri": "https://localhost:8080/"
        },
        "id": "yo7XDQGrooIk",
        "outputId": "731611d8-8fd7-4ef9-adc5-175fe8983b24"
      },
      "execution_count": 14,
      "outputs": [
        {
          "output_type": "stream",
          "name": "stdout",
          "text": [
            "  (0, 2223)\t0.10681523621720632\n",
            "  (0, 1920)\t0.04001443517750529\n",
            "  (0, 273)\t0.044818246538843844\n",
            "  (0, 604)\t0.027510343974516644\n",
            "  (0, 8842)\t0.04461093070746824\n",
            "  (0, 11547)\t0.1681438634611367\n",
            "  (0, 5627)\t0.17804179078266624\n",
            "  (0, 4987)\t0.15567394978199967\n",
            "  (0, 4111)\t0.1681438634611367\n",
            "  (0, 3206)\t0.14746022762147082\n",
            "  (0, 536)\t0.10681523621720632\n",
            "  (0, 11186)\t0.083287801850836\n",
            "  (0, 10333)\t0.07521831226601851\n",
            "  (0, 500)\t0.06860590455043375\n",
            "  (0, 4449)\t0.17804179078266624\n",
            "  (0, 4123)\t0.13053960910433998\n",
            "  (0, 7154)\t0.09542445038909413\n",
            "  (0, 7972)\t0.1681438634611367\n",
            "  (0, 4399)\t0.05210258324484977\n",
            "  (0, 6494)\t0.16112117226553543\n",
            "  (0, 3775)\t0.17804179078266624\n",
            "  (0, 5029)\t0.13234868048349252\n",
            "  (0, 6054)\t0.08538899429578388\n",
            "  (0, 11335)\t0.17804179078266624\n",
            "  (0, 5122)\t0.16112117226553543\n",
            "  :\t:\n",
            "  (1080, 4771)\t0.24423019669830365\n",
            "  (1080, 7484)\t0.2074416500512196\n",
            "  (1080, 8874)\t0.22101920802800684\n",
            "  (1080, 8276)\t0.21354693866492605\n",
            "  (1080, 4266)\t0.46130527744303285\n",
            "  (1080, 9751)\t0.20227970207921944\n",
            "  (1080, 4773)\t0.18155032099571125\n",
            "  (1080, 1999)\t0.20227970207921944\n",
            "  (1080, 7)\t0.19033594999462924\n",
            "  (1080, 4021)\t0.13711821878983838\n",
            "  (1080, 9698)\t0.09899003837591148\n",
            "  (1080, 2372)\t0.09317784903603338\n",
            "  (1080, 1476)\t0.0718592496142887\n",
            "  (1080, 6)\t0.18423066138092278\n",
            "  (1080, 3534)\t0.1281752533468196\n",
            "  (1080, 11199)\t0.06485752258248223\n",
            "  (1080, 6737)\t0.14563159931152247\n",
            "  (1080, 10281)\t0.08047011602214144\n",
            "  (1080, 10350)\t0.04117599158091109\n",
            "  (1080, 3661)\t0.06791512233101103\n",
            "  (1080, 1920)\t0.05489010940191627\n",
            "  (1080, 604)\t0.03773752606395557\n",
            "  (1080, 7153)\t0.0417256044996889\n",
            "  (1080, 5116)\t0.047736030788627364\n",
            "  (1080, 10247)\t0.03646202859460422\n"
          ]
        }
      ]
    },
    {
      "cell_type": "code",
      "source": [
        "# Similarities in features\n",
        "similarity = cosine_similarity(feature_vectors)\n",
        "# print(similarity)\n",
        "print(similarity.shape)"
      ],
      "metadata": {
        "colab": {
          "base_uri": "https://localhost:8080/"
        },
        "id": "KiGvfNKwovo6",
        "outputId": "0a33e324-fc16-4424-ba6d-56bd33f55056"
      },
      "execution_count": 17,
      "outputs": [
        {
          "output_type": "stream",
          "name": "stdout",
          "text": [
            "(1081, 1081)\n"
          ]
        }
      ]
    },
    {
      "cell_type": "code",
      "source": [
        "anime_name = input(\"Enter anime name to get suggestion: \")"
      ],
      "metadata": {
        "colab": {
          "base_uri": "https://localhost:8080/"
        },
        "id": "TRYaSh2bpAXM",
        "outputId": "564030d2-0fc9-444b-cf89-f52f3d62f22e"
      },
      "execution_count": 25,
      "outputs": [
        {
          "name": "stdout",
          "output_type": "stream",
          "text": [
            "Enter anime name to get suggestion: Lupin \n"
          ]
        }
      ]
    },
    {
      "cell_type": "code",
      "source": [
        "#  List of all titles in data\n",
        "list_of_all_anime_titles = anime_data['title'].tolist()\n",
        "print(list_of_all_anime_titles)"
      ],
      "metadata": {
        "colab": {
          "base_uri": "https://localhost:8080/"
        },
        "id": "XGwziqk5pcFP",
        "outputId": "0c140553-70c8-4996-a33c-4840f14a9b20"
      },
      "execution_count": 26,
      "outputs": [
        {
          "output_type": "stream",
          "name": "stdout",
          "text": [
            "['Lupin the Third', 'Mobile Suit Gundam', 'Galaxy Express 999', 'Lupin the 3rd', 'Chōdenji Machine Voltes V', 'Space Pirate Captain Harlock', 'The Wonderful Adventures of Nils', 'Princess Knight', 'The Adventures of the Little Prince', 'Space Warrior Baldios', 'Chargeman Ken!', 'Demian, o Justiceiro', 'Dragon Ball Z', 'Dragon Ball', 'Fist of the North Star', 'Megabeast Investigator Juspion', 'Samurai Pizza Cats', 'Gunbuster', 'City Hunter', 'Kimagure Orange Road', \"Cat's Eye\", 'Dallos', 'Arcadia of My Youth: Endless Orbit SSX', 'Giant Gorg', 'GoShogun', 'Miss Machiko', 'Osomatsu-kun', 'The Wonderful Wizard of Oz', 'Robot Carnival', 'Psycho Armor Govarian', 'Dancougar – Super Beast Machine God', 'Six God Combination Godmars', 'One Piece', 'Cowboy Bebop', 'FLCL', 'Yu Yu Hakusho', 'Ghost Stories', 'Yu-Gi-Oh!', 'InuYasha', 'Mobile Suit Gundam Wing', 'Rurouni Kenshin', 'Case Closed', 'Fighting Spirit', 'Dragon Ball GT', 'Mobile Fighter G Gundam', 'Revolutionary Girl Utena', 'Tenchi Muyo!', 'Cardcaptor Sakura', 'Street Fighter', 'Slam Dunk', 'Mobile Suit Gundam Wing Endless Waltz', 'Boys Over Flowers', 'The Mysterious Play', 'Martian Successor Nadesico', 'Boogiepop Phantom', 'Blue Submarine No. 6', 'Black Fox', 'Flame of Recca', 'Gravitation', 'Ceres: Celestial Legend', '8 Man After', 'Gasaraki', 'Legend of Black Heaven', 'Blue Seed', 'Jubei-chan the Ninja Girl: Secret of the Lovely Eyepatch', 'Photon: The Idiot Adventures', 'El Hazard: The Wanderers', 'Soul Hunter', 'Marmalade Boy', 'Shamanic Princess', 'Ronin Warriors: Message', 'Key the Metal Idol', 'Dai-Guard', \"Magic User's Club\", 'Lost Universe', 'Tama and Friends', 'Space Pirate Mito', 'DNA²', 'VS Knight Lamune & 40 Fire', 'Gokudo', \"Eat-Man '98\", 'Princess Nine', 'Eat-Man', 'Fullmetal Alchemist: Brotherhood', 'Naruto Shippūden', 'DEATH NOTE', 'Naruto', 'Bleach', 'Samurai Champloo', 'Fairy Tail', 'Gurren Lagann', 'Mushi-Shi', 'Gintama', 'Monogatari', 'Mobile Suit Gundam 00', 'Toradora!', 'Ninja Scroll: The Series', 'Happiness!', 'Yu-Gi-Oh! GX', 'Mobile Suit Gundam SEED', 'Full Metal Panic!', 'Natsume Yujin-cho', 'Michiko & Hatchin', 'Angel Beats!', 'Beyblade: Metal Fusion', 'Kenichi: The Mightiest Disciple', 'Kaiji', 'Ouran High School Host Club', 'Love Hina Again', 'A Certain Magical Index', 'Kimi ni Todoke: From Me to You', 'Fruits Basket', 'REBORN!', 'Demon King Daimao', 'Oreimo', 's-CRY-ed', 'Cromartie High School', 'School Days', 'The Twelve Kingdoms', 'Rosario + Vampire', 'Sgt. Frog', 'Gankutsuou', 'Genshiken', 'Mischievous Kiss', \"Yu-Gi-Oh! 5D's\", 'The Prince of Tennis', 'Big Windup!', 'Tenjho Tenge', 'A Certain Scientific Railgun', \"Chi's Sweet Home\", 'Digimon Fusion', 'Fullmetal Alchemist the Movie: Conqueror of Shamballa', 'Hakuouki', 'Vampire Knight', 'Pretty Cure', 'Lovely Complex', 'Library War', 'Emma: A Victorian Romance', 'Hikaru no Go', 'Shugo Chara!', 'Mobile Suit Gundam Seed Destiny', 'Saint Seiya The Lost Canvas', 'Arakawa Under the Bridge', 'The Law of Ueki', 'The World God Only Knows', 'Eyeshield 21', 'Junjou Romantica', 'Time of Eve', 'Squid Girl', 'Sweet Blue Flowers', 'The Melancholy of Haruhi Suzumiya', 'Honey and Clover', 'Cyborg 009: The Cyborg Soldier', 'Kekkaishi', 'Bludgeoning Angel Dokuro-Chan', 'Mazinger Edition Z: The Impact!', 'H2O: Footprints in the Sand', 'Peacemaker Kurogane', 'Cosmo Warrior Zero', 'Ah My Buddha!!', 'Yakitate!! Japan', 'Kaiba', 'Tetsujin 28', 'Nagasarete Airanto', 'Full Metal Panic? Fumoffu', 'Tegami Bachi: Letter Bee', 'Kyo Kara Maoh!', 'Tales of Symphonia: The Animation', 'Aria the Animation', 'Mushi-Uta', 'The Galaxy Railways', 'True Tears', 'The Melody of Oblivion', 'Heroman', \"Haruka Nogizaka's Secret\", 'Pandora Hearts', 'Strike Witches', 'Hanasakeru Seishōnen', 'Saki', 'Ramen Fighter Miki', 'Full Metal Panic! The Second Raid', 'Please Teacher!', 'Zombie-Loan', 'Star Driver', 'Izumo: Flash of a Brave Sword', 'Time Jam: Valerian & Laureline', 'DearS', 'Neo Angelique Abyss', 'The Tower of Druaga: The Aegis of Uruk', 'Hayate the Combat Butler', 'Elemental Gelade', 'Ultra Maniac', 'Please Twins', 'Super GALS!', '07-Ghost', 'Tales of Phantasia: The Animation', \"Sketchbook ~full color's~\", 'Stellvia of the Universe', 'Shining Tears X Wind', 'Koihime Muso', 'Pilot Candidate', 'Yamibo - Darkness, the Hat, and the Travelers of the Books', 'Looking Up at the Half-Moon', 'The Tower of Druaga: the Sword of Uruk', 'White Album', 'Moyashimon', '11eyes', 'Interlude', 'The Third: The Girl with the Blue Eye', 'Myself; Yourself', 'Shin Koihime musô: Otome tairan', 'リルぷりっ', 'Air Master', 'Modern Magic Made Simple', 'Inukami!', 'Hyakko', 'Pita Ten', 'Kaitou Reinya', 'Ristorante Paradiso', 'Zakuro', 'Sound of the Sky', 'Eagle Talon', 'Soul Link', 'Chance Pop Session', 'Demonbane', 'Blassreiter', 'Kamen no Maid Guy', 'Gakuen Alice', 'Ninja Nonsense', 'Mahoraba: Heartful Days', 'Web Ghosts Pipopa', 'GA: Geijutsuka Art Design Class', 'Glass Mask', 'Koi Koi Seven', \"Kaasan Mom's Life\", 'Canvas 2 ~Niji Iro no Sketch~', 'Fairy Musketeers', 'Shingu: Secret of the Stellar Wars', 'Mon Colle Knights', 'Kite Liberator', 'Fantastic Detective Labyrinth', 'Kono Aozora ni Yakusoku wo', 'Earl and Fairy', 'Hunter x Hunter', \"JoJo's Bizarre Adventure\", 'Steins;Gate', 'Sword Art Online', 'Puella Magi Madoka Magica', 'The Future Diary', 'Another', 'Nichijou: My Ordinary Life', 'Fate/Zero', 'Blue Exorcist', 'From the New World', 'anohana: The Flower We Saw That Day', 'Magi', 'Hyouka', 'Thermae Romae', \"Kuroko's Basketball\", 'My Little Monster', 'K-Project', 'Polar Bear Cafe', 'Accel World', 'Usagi Drop', 'Chihayafuru', 'Beelzebub', 'Daily Lives of High School Boys', 'Nyaruko: Crawling With Love!', 'Space Brothers', 'Yu-Gi-Oh! Zexal', 'Cardfight!! Vanguard', 'Blast of Tempest', 'Kyousougiga', 'Campione!', 'Toriko', 'Saint Seiya Omega', 'Ghastly Prince Enma Burning Up', 'NARUTO Spin-Off: Rock Lee & His Ninja Pals', 'YuruYuri: Happy Go Lily', 'Folktales from Japan', 'The Ambition of Oda Nobuna', 'Brave 10', 'Hanasaku Iroha: Blossoms for Tomorrow', 'A Bridge to the Starry Skies', 'Nisemonogatari', 'Boku no Imouto wa \"Osaka Okan\"', 'The New Prince of Tennis', 'Teekyu', 'Ixion Saga: Dimension Transfer', 'You and Me', 'Sket Dance', 'Superb Song of the Valkyries: Symphogear', 'Muv-Luv Alternative: Total Eclipse', 'Inferno Cop', 'A Dark Rabbit has Seven Lives', 'Dragon Crisis!', 'Kamisama Dolls', 'Sengoku Collection', 'DD Fist of the North Star', 'Saki Episode of Side A', 'Holy Knight', 'gdgd Fairies', 'Chitose Get You!!', 'Tamayura: Hitotose', 'Battle Girls: Time Paradox', 'Ebiten', \"You're Being Summoned, Azazel-san\", 'Twin Angel: Twinkle Paradise', \"Wooser's Hand-to-Mouth Life\", 'Recorder and Randsell', 'Poyopoyo', 'Morita-san wa Mukuchi', 'Lychee Light Club', 'Yurumates3Dei', 'Upotte!!', 'PES: Peace Eco Smile', 'Attack on Titan', 'Haikyu!!', 'Tokyo Ghoul', 'Your Lie in April', 'Parasyte -the maxim-', 'My Teen Romantic Comedy SNAFU', 'KILL la KILL', 'The Devil Is a Part-Timer!', 'Sailor Moon Crystal', 'RWBY', 'Date a Live', 'Log Horizon', 'Noragami', 'Yona of the Dawn', 'Danganronpa: The Animation', 'Trinity Seven', 'The Irregular at Magic High School', 'Blue Spring Ride', 'Fate/stay night [Unlimited Blade Works]', 'Nisekoi', 'The Garden of Sinners', 'Free!', 'Maoyu: Archenemy & Hero', 'World Trigger', 'Yowamushi Pedal', 'Strike the Blood', 'Gargantia on the Verdurous Planet', 'Non Non Biyori', 'The Fruit of Grisaia', 'Yuki Yuna Is a Hero', 'Terra Formars', 'Ace of Diamond', 'The World is Still Beautiful', 'Yu-Gi-Oh! Arc-V', 'Gundam Build Fighters', 'Mischief of the Gods', 'Persona 4 The Golden Animation', 'Oreshura', 'Fate/kaleid liner Prisma Illya', 'Mushibugyou', 'Aldnoah.Zero', 'Nagi-Asu: A Lull in the Sea', 'Dai Shogun - Great Revolution', 'Love Stage!!', 'Gatchaman Crowds', 'Is the Order a Rabbit?', \"I Can't Understand What My Husband Is Saying\", \"Nanana's Buried Treasure\", 'Witch Craft Works', 'Tonari no Seki-kun: The Master of Killing Time', \"Problem Children Are Coming from Another World, Aren't They?\", 'Magic Kaito 1412', 'Brynhildr in the Darkness', 'When Supernatural Battles Became Commonplace', 'Inugami-san to Nekoyama-san', 'The Eccentric Family', 'Unlimited Psychic Squad', 'Theatre of Darkness: Yamishibai', 'White Album 2', 'Hamatora', 'The Troubled Life of Miss Kotoura', 'Love Lab', 'My Mental Choices Are Completely Interfering with my School Romantic Comedy', 'My Big Sister Arrived', 'Denki-gai', 'Servant x Service', 'Dramatical Murder', 'If Her Flag Breaks', 'Survival Game Club', 'Encouragement of Climb', 'Walkure Romanze', 'Blade Dance of Elementalers', 'HaNaYaMaTa', 'Orenchi no Furo Jijo', 'Nobunaga Concerto', 'Miss Monochrome - The Animation', 'Aiura', '義風堂々!! 兼続と慶次', 'Arpeggio of Blue Steel: Ars Nova', 'Blade and Soul', 'Gingitsune: Messenger Fox of the Gods', 'Future Card Buddyfight', 'BONJOUR♪Sweet Love Patisserie', 'Arata: The Legend', 'Chaika - The Coffin Princess', 'Makai Ōji: Devils and Realist', 'Ai-Mai-Mi', \"The Pilot's Love Song\", 'Locodol', 'Magimoji Rurumo', 'Donyatsu', 'Himegoto', \"Sparrow's Hotel\", 'Senyu.', 'Wake Up, Girls！', 'World Fool News', 'GJ Club', 'Da Capo III', 'A Town Where You Live', 'Straight Title Robot Anime', 'Wonder Momo', 'Majin Bone', 'Rowdy Sumo Wrestler Matsutaro!!', 'Mangirl!', 'The New Prince of Tennis OVA vs. Genius 10', 'Nobunagun', 'Robot Girls Z', 'Chronicles of the Going Home Club', 'Strange+', 'プリパラ', 'Muromi-san', 'Girl Friend BETA', 'Dragon Collection', 'One-Punch Man', 'My Hero Academia', 'Food Wars! Shokugeki no Soma', 'Dragon Ball Super', 'Mob Psycho 100', 'Berserk', 'Assassination Classroom', 'Kabaneri of the Iron Fortress', \"KonoSuba – God's blessing on this wonderful world!!\", 'Re:ZERO -Starting Life in Another World-', 'Is It Wrong to Try to Pick Up Girls in a Dungeon?', 'Overlord', 'ERASED', 'Yuri!!! on Ice', 'Bungo Stray Dogs', 'Mobile Suit Gundam: Iron-Blooded Orphans', 'Blood Blockade Battlefront', 'Rokka - Braves of the Six Flowers', 'Hitori no Shita: The Outcast', 'March Comes in Like a Lion', '91 Days', 'God Eater', 'Twin Star Exorcists', 'My Love Story!!', 'Saekano: How to Raise a Boring Girlfriend', 'Attack on Titan: Junior High', 'Ace Attorney', 'Orange', 'Myriad Colors Phantom World', 'Snow White with the Red Hair', 'Tawawa on Monday', 'Lupin the Third: The Italian Adventure', 'Sound! Euphonium', \"Danganronpa 3: The End of Hope's Peak High School\", 'Triage X', 'ReLIFE', 'Flying Witch', 'Dagashi Kashi', 'And You Thought There Is Never a Girl Online?', 'Keijo!!!!!!!!', 'Anti-Magic Academy: The 35th Test Platoon', 'Punch Line', 'Kiss Him, Not Me', 'Big Order', 'Showa Genroku Rakugo Shinju', 'Qualidea Code', 'Digimon Adventure Tri', 'The Asterisk War', 'Kiznaiver', 'Sweetness & Lightning', 'Bloodivores', 'Schwarzes Marken', 'Yamada-kun and the Seven Witches', 'Tiger Mask W', 'Occultic;Nine', 'Absolute Duo', 'Saint Seiya: Soul of Gold', 'Digimon Universe: Appli Monsters', 'Magic-Kyun! Renaissance', 'Touken Ranbu: Hanamaru', 'Koro Sensei Quest!', 'Magical Girl Raising Project', 'Hundred', 'Thunderbolt Fantasy', 'Taboo Tattoo', 'Mr. Osomatsu', 'The Morose Mononokean', 'Tales of Zestiria the X', 'Anime de Training! Ex', 'Spiritpact', 'Space Patrol Luluco', 'Owarimonogatari', 'Wakakozake', 'Alderamin on the Sky', 'This Art Club Has a Problem!', 'Days', 'Joker Game', 'Sky Wizards Academy', 'Samurai Warriors', 'NEW GAME!', 'Bananya', 'World Break: Aria of Curse for a Holy Swordsman', 'The Lost Village', 'Actually, I Am...', 'Danchigai', 'Love Live! Sunshine!!', 'To Be Hero', '機動戦士ガンダムユニコーン RE:0096', 'Unlimited Fafnir', 'ALL OUT!!', 'The Numbers', 'WWW.Working!!', 'Comical Psychosomatic Medicine', \"Poco's Udon World\", 'SENGOKUCHOJYUGIGA', 'Izetta: The Last Witch', 'Seisen Cerberus: Ryuukoku no Fatalités', 'Ao Oni The Animation', 'KanColle: Kantai Collection', 'Military!', 'Akagi', 'Rewrite', 'Tantei Team KZ Jiken Note', \"Lance N' Masques\", 'THE iDOLM@STER Cinderella Girls', 'Brave Witches', 'She and Her Cat -Everything Flows-', 'B-PROJECT', 'Kagewani', 'Mahou Shoujo? Naria Girls', \"Komori-san Can't Decline!\", 'Lostorage incited WIXOSS', 'Onsen yôsei Hakone-chan', 'Monster Strike', 'Soul Buster', 'Tsukiuta. The Animation', 'Nazotokine', 'Kaijuu Girls', 'Miss Bernard Said.', 'Amanchu!', 'ETOTAMA', 'Scorching Ping Pong Girls', 'The Highschool Life of a Fudanshi', 'ISUCA', 'Pan de Peace!', 'Ange Vierge', 'This Boy Is a Professional Wizard', 'Cheating Craft', 'Neko Neko Nihonshi', 'Gakuen Handsome', 'Kowabon', 'Inazma Delivery', 'Sekko Boys', 'BONO BONO', 'Hagane Orchestra', 'AOKANA: Four Rhythm Across the Blue', 'JK-Meshi!', 'Usakame', 'Nyanbo!', 'Active Raid', 'Ninja Girl & Samurai Master', 'Urawa no Usagi-chan', 'Gunslinger Stratos: The Animation', 'Shounen Ashibe Go! Go! Goma-chan', \"I've Had Enough of Being a Magical Girl\", 'Tonkatsu DJ Agetarō', 'Dream Festival!', 'The Nameko Families', 'Crane Game Girls', 'Takamiya Nasuno Desu! Teekyu Spinoff', 'Tabimachi Late Show', 'Magical Somera-chan', 'Peeping Life', 'Landlord Is in Puberty!', 'Time Bokan 24', 'Please Tell Me! Galko-chan', 'Onara Gorou', 'Ozmafia!!', 'The Journey Home', 'Wagamama High Spec', 'Rainy Cocoa', 'Cute High Earth Defense Club LOVE!', 'Starmyu', 'HEYBOT!', 'Anne-Happy', 'Fan Service', 'Ojisan and Marshmallow', 'Lovely Muuuuuuuco!', 'BBK/BRNK', \"Kiitaro's Yokai Picture Diary\", 'Black Clover', 'Goblin Slayer', 'That Time I Got Reincarnated as a Slime', 'Boruto: Naruto Next Generations', \"The Ancient Magus' Bride\", 'DARLING in the FRANXX', 'Laid-Back Camp', 'Friends Games', 'Cells at Work!', 'Rascal Does Not Dream of Bunny Girl Senpai', 'A Place Further Than the Universe', \"Miss Kobayashi's Dragon Maid\", 'Classroom of the Elite', 'Zombieland Saga', 'Steins;Gate 0', 'Junji Ito Collection', 'MEGALOBOX', 'Golden Kamuy', 'Teasing Master Takagi-san', 'Saga of Tanya the Evil', 'Persona 5: The Animation', 'Angels of Death', 'Citrus', 'Hinamatsuri', 'Seiren', 'In Another World with My Smartphone', \"Masamune-kun's Revenge\", 'Recovery of an MMO Junkie', 'Yuuna and the Haunted Hot Springs', \"DAKAICHI -I'm being harassed by the sexiest man of the year-\", 'Record of Grancrest War', 'My First Girlfriend is a Gal', 'Cardcaptor Sakura: Clear Card', 'Anime-Gataris', 'Sword Art Online Alternative: Gun Gale Online', 'AHO-GIRL', 'The Legend of the Galactic Heroes: Die Neue These', 'Tsukigakirei', \"Knight's & Magic\", 'Saint Seiya: Saintia Sho', 'WorldEnd: What are you doing at the end of the world? Are you busy? Will you save us?', 'Asobi Asobase - workshop of fun -', 'Caligula', 'Granblue Fantasy: The Animation', 'Akashic Records of Bastard Magic Instructor', 'SSSS.GRIDMAN', 'Radiant', 'GeGeGe no Kitaro', 'Tsuredure Children', \"King's Game – The Animation\", 'Restaurant to Another World', 'Konohana Kitan', 'Eromanga Sensei', 'Love To-LIE-Angle', 'Interviews with Monster Girls', 'Frankenstein Family', 'Clean Freak! Aoyama-kun', 'Death March to the Parallel World Rhapsody', 'Sanrio Boys', 'Blend S', 'Yu-Gi-Oh! VRAINS', 'School Babysitters', 'One Room', 'Yotsuiro Biyori', 'Kakuriyo -Bed & Breakfast for Spirits-', 'Harukana Receive', 'Pop Team Epic', 'Tsurune', 'Skull-face Bookseller Honda-san', 'Run with the Wind', \"A Sister's All You Need\", 'GAMERS!', 'Psychic Princess', 'Katsugeki: Touken Ranbu', 'Netsuzou Trap -NTR-', 'The Master of Ragnarok & Blesser of Einherjar', 'Sengoku Night Blood', 'Gabriel DropOut', 'Anime Crimes Division', 'Saiyuki Reload Blast', 'Kemono Friends', 'Basilisk: The Ouka Ninja Scrolls', 'Umamusume: Pretty Derby', 'Love is Like a Cocktail', 'Fuuka', 'Anima Yell!', 'Full Metal Panic! Invisible Victory', 'Love Tyrant', 'Homicide City', \"Muhyo & Roji's Bureau of Supernatural Investigation\", 'Juni Taisen: Zodiac War', 'Clockwork Planet', 'Katana Maidens: Toji no Miko', 'HAKYU HOSHIN ENGI', 'IDOLiSH7', 'Magical Circle Guruguru', 'Dies Irae', 'Dances with the Dragons', 'Jigoku Shoujo: Yoi no Togi', 'Holmes of Kyoto', 'Gundam Build Divers', 'Magical Girl Ore', \"Ulysses: Jeanne d'Arc and the Alchemist Knight\", 'My Sweet Tyrant', 'Isekai Izakaya: Japanese Food From Another World', \"Kino's Journey: The Beautiful World\", 'THE REFLECTION', 'As Miss Beelzebub Likes It.', \"Chio's School Road\", 'Code:Realize', 'Angolmois: Record of Mongol Invasion', 'Hinomaru Sumo', 'Island', 'Miss Caretaker of Sunohara-sou', 'Hakata Tonkotsu Ramens', 'The World Yamizukan', 'Kenka Banchou Otome: Girl Beats Boys', 'Chain Chronicle: The Light of Haecceitas', 'Major 2nd', 'Fist of the Blue Sky: Regenesis', 'How to Keep a Mummy', 'The Silver Guardian', 'Jingai-san no Yome', \"A Centaur's Life\", 'Voice of Fox', 'Hinako Note', 'Bakumatsu', 'Our Love Has Always Been 10 Centimeters Apart.', 'Comic Girls', 'GARO -VANISHING LINE-', 'Conception', 'KADO: The Right Answer', 'Forest Fairy Five', 'Room Mate', 'Merc Storia: The Apathetic Boy and the Girl in a Bottle', 'ACCA: 13-Territory Inspection Dept.', 'Working Buddies!', 'Drop Kick on My Devil!!', 'Phantom in the Twilight', 'Mr. TONEGAWA Middle Management Blues', \"Today's Menu for the Emiya Family\", 'Convenience Store Boy Friends', 'Chronos Ruler', 'Two Car', 'TsukiPro the Animation', 'Slow Start', 'Nil Admirari no Tenbin: Teito Genwaku Kitan', '7O3X Fastest Finger First', 'ルパン三世 PART5', 'To Be Heroine', 'Ms. Vampire Who Lives in My Neighborhood.', 'Wacky TV Na Na Na', 'Love Kome: We Love Rice', 'HANEBADO!', 'Chaos;Child', 'Idol Incidents', 'Last Period: the journey to the end of the despair', 'Märchen Mädchen', 'Nyanko Days', \"You Don't Know GUNMA Yet.\", 'Lord of Vermilion: The Crimson King', 'Ms. Koizumi Loves Ramen Noodles', 'UzaMaid!', 'Planet With', 'Hand Shakers', 'Evil or Live', 'Crossing Time', 'Chiruran 1/2', 'Alice & Zoroku', 'Elegant Yokai Apartment Life', 'Marginal#4 Kiss Kara Tsukuru Big Bang', 'Where Did It Come From?', 'The Irresponsible Galaxy Tylor', 'Welcome, Chitose-chan', 'The Laughing Salesman NEW', \"Pikotaro's Lullaby La La By\", 'ēlDLIVE', 'We Rent Tsukumogami', 'Armor Shop for Ladies & Gentlemen', 'Schoolgirl Strikers: Animation Channel', 'THE iDOLM@STER Side M', \"Angel's 3Piece!\", 'Late Night! The Genius Bakabon', \"The Ryuo's Work is Never Done!\", 'Investor Z', 'The Royal Tutor', 'Taishou Mebiusline: Chicchai-san', 'Makeruna!! Aku no Gundan!', 'スナックワールド', 'Kiratto Pri☆chan', 'Urahara', 'Cinderella Girls Theatre', 'Gurazeni: Money Pitch', 'Piacevole! My Italian Cooking', 'Himote House: A Share House of Super Psychic Girls', 'RErideD – Derrida, who leaps through time –', 'The Sprites of Floria', 'Asenshu Anime Recap', 'Welcome to the JAPARI PARK', 'Space Battleship Tiramisu', 'Between the Sky and Sea', 'Twin Angel Break', 'Ikemen Sengoku: Toki wo Kakeru ga Koi wa Hajimaranai', '100% Teacher Pascal', 'Double Decker! Doug & Kirill', 'Kirakira☆Precure a la Mode', 'Xuan Yuan Sword Luminary', 'Operation Han-Gyaku-Sei Million Arthur', 'Butlers x Battlers', 'Mitchiri Neko', 'Hina Logic: From Luck & Logic', 'BWFC: Banpresto World Figure Colosseum', 'Music Girls', 'Minami Kamakura High School Girls Cycling Club', \"gdgd men's Party\", 'THE IDOLM@STER SideM Wakeatte Mini!', 'Demon Slayer: Kimetsu no Yaiba', 'Jujutsu Kaisen', 'The Rising of the Shield Hero', 'Kaguya-sama: Love is War', 'Fire Force', 'Dr. Stone', 'The Promised Neverland', 'The Misfit of Demon King Academy', 'Tower of God', 'Digimon Adventure', 'Given', \"Arifureta: From Commonplace to World's Strongest\", 'Ascendance of a Bookworm', 'Welcome to Demon School! Iruma-kun', 'TONIKAWA: Over the Moon for You', 'The God of High School', 'Moriarty the Patriot', 'Domestic Girlfriend', 'Uzaki-chan Wants to Hang Out!', 'Why the Hell are You Here, Teacher!?', 'Science Fell in Love, So I Tried to Prove It', 'Wise Man’s Grandchild', 'Toilet-Bound Hanako-kun', 'Bofuri: I Don’t Want to Get Hurt, so I’ll Max Out My Defense.', 'In/Spectre', 'Yashahime: Princess Half-Demon', 'Dragon Quest: The Adventure of Dai', 'The Quintessential Quintuplets', 'Keep Your Hands Off Eizouken!', 'Plunderer', \"Darwin's Game\", 'Magia Record: Puella Magi Madoka Magica Side Story', 'Fate/Grand Order - Absolute Demonic Front: Babylonia', 'Do You Love Your Mom and Her Two-Hit Multi-Target Attacks?', 'Gleipnir', 'My Roommate is a Cat', 'ORESUKI: Are you the only one who loves me?', 'Isekai Cheat Magician', 'Assassins Pride', 'How Heavy Are the Dumbbells You Lift?', 'gen:LOCK', 'Noblesse', 'My Next Life as a Villainess: All Routes Lead to Doom!', 'Princess Connect! Re:Dive', 'We Never Learn: BOKUBEN', 'Azur Lane', 'Burn the Witch', 'Rent-a-Girlfriend', 'Cautious Hero: The Hero Is Overpowered but Overly Cautious', 'YU-NO: A Girl Who Chants Love at the Bound of This World', \"Ao-chan Can't Study!\", 'Wandering Witch: The Journey of Elaina', 'Somali and the Forest Spirit', \"I'm Standing on a Million Lives\", 'Akudama Drive', 'Kuma Kuma Kuma Bear', 'The Day I Became a God', 'Our Last Crusade or the Rise of a New World', 'Mysteria Friends', 'The 8th Son? Are You Kidding Me?', 'Sleepy Princess in the Demon Castle', 'Boogiepop and Others', \"Mr Love: Queen's Choice\", 'Final Fantasy XV: Episode Ardyn -Prologue-', 'Cherry Magic! Thirty Years of Virginity Can Make You a Wizard?!', 'By the Grace of the Gods', 'SING \"YESTERDAY\" FOR ME', 'Monster Girl Doctor', 'To the Abandoned Sacred Beasts', 'Oh, Suddenly Egyptian God', 'Onyx Equinox', 'Ahiru no Sora', 'A Certain Scientific Accelerator', 'Demon Lord, Retry!', 'Mobile Suit Gundam: The Origin - Advent of the Red Comet', 'High School Prodigies Have It Easy Even in Another World!', 'Adachi and Shimamura', \"If It's for My Daughter, I'd Even Defeat a Demon Lord\", 'Seton Academy: Join the Pack!', 'I Tried Asking While Kowtowing', 'Kakushigoto', 'Shadowverse', 'Love Live! Nijigasaki High School Idol Club', 'Are You Lost?', 'The Case Files of Jeweler Richard', 'Virtualsan - Looking', 'Magical Girl Spec-Ops Asuka', 'Bungo and Alchemist -Gears of Judgement-', 'Iwa Kakeru! Sport Climbing Girls', 'Magical Sempai', 'SUPER HxEROS', 'Mix: Meisei Story', \"Lord El-Melloi II's Case Files {Rail Zeppelin} Grace note\", 'The Helpful Fox Senko-san', 'Infinite Dendrogram', \"Didn't I Say to Make My Abilities Average in the Next Life?!\", 'Isekai Quartet', 'The Millionaire Detective – Balance: UNLIMITED', 'Extra Olympia Kyklos', 'WATATEN!: an Angel Flew Down to Me', 'Sarazanmai', 'Joshi Kausei', 'Midnight Occult Civil Servants', 'Katana Maidens ~ Mini Toji', 'Yatogame-chan Kansatsu Nikki', 'Asteroid in Love', 'SD Gundam World: Sangoku Souketsuden', 'Ninja Collection', 'Strike Witches: 501st JOINT FIGHTER WING Take Off!', 'Hitori Bocchi no Marumaru Seikatsu', 'Oda Cinnamon Nobunaga', 'Sorcerous Stabber Orphen', 'Senryu Girl', 'Girly Air Force', 'NAMUAMIDABUTSU! -UTENA-', 'KING OF PRISM -Shiny Seven Stars-', 'The Magnificent KOTOBUKI', \"Woodpecker Detective's Office\", 'Try Knights', 'Days of Urashimasakatasen', 'The House Spirit Tatami-chan', 'Granbelm', 'Gibiate', '22-Jul', 'With a Dog AND a Cat, Every Day Is Fun', 'Meiji Tokyo Renka', 'That is the Bottleneck', 'How Clumsy you are, Miss Ueno.', 'A Destructive God Sits Next to Me', 'Room Camp', 'Grimms Notes: The Animation', \"W'z\", \"Healin' Good♡Precure\", 'Cinderella Nine', 'Vlad Love', 'Fight League: Gear Gadget Generators', 'Hakata Mentai! Pirikarako-chan', 'Null & Peta', 'ARP Backstage Pass', 'Uchi Tama?! Uchi no Tama Shirimasen ka?', 'Amazing Stranger', 'Pastel Memories', 'The Price of Smiles', 'Endro!', 'True Cooking Master Boy', 'Umayon', \"Don't Call Us a Junk Game!\", 'Dimension High School', 'D4DJ First Mix', 'Rail Romanesque', 'SPY x FAMILY', 'Blade Runner: Black Lotus', 'Ranking of Kings', 'My Dress-Up Darling', '86: Eighty-Six', 'Tokyo Revengers', 'ODDTAXI', 'Love After World Domination', 'Horimiya', 'The Greatest Demon Lord Is Reborn as a Typical Nobody', 'To Your Eternity', 'Skeleton Knight in Another World', 'Trapped in a Dating Sim: The World of Otome Games Is Tough for Mobs', 'SK8 the Infinity', 'Shenmue the Animation', \"Birdie Wing -Golf Girls' Story-\", 'The Case Study of Vanitas', \"Vivy -Fluorite Eye's Song-\", \"Don't Toy With Me, Miss Nagatoro\", 'takt op.Destiny', \"The World's Finest Assassin Gets Reincarnated in Another World as an Aristocrat\", 'Tsukimichi -Moonlit Fantasy-', 'Wonder Egg Priority', \"World's End Harem\", 'Mushoku Tensei: Jobless Reincarnation', 'Fena: Pirate Princess', 'Platinum End', 'Cells at Work! Code Black', 'Seirei Gensouki: Spirit Chronicles', 'Kemono Jihen', 'The Hidden Dungeon Only I Can Enter', 'AMAIM Warrior at the Borderline', 'Rust-Eater Bisco', 'In the Land of Leadale', 'The Dawn of the Witch', 'Girlfriend, Girlfriend', 'Life Lessons with Uramichi Oniisan', 'Aoashi', 'Miss Kuroitsu From the Monster Development Department', \"So I'm a Spider, So What?\", 'Requiem of the Rose King', 'KAGINADO', 'Digimon Ghost Game', 'Tokyo 24th Ward', 'The Faraway Paladin', 'Heroines Run the Show', \"I've Been Killing Slimes for 300 Years and Maxed Out My Level\", 'Suppose a Kid From the Last Dungeon Boonies Moved to a Starter Town?', 'The Strongest Sage With the Weakest Crest', 'Remake Our Life!', \"The Saint's Magic Power Is Omnipotent\", 'SSSS.DYNAZENON', \"Salaryman's Club\", 'Backflip!!', 'The Detective Is Already Dead', 'Higehiro: After Being Rejected, I Shaved and Took in a High School Runaway', 'Estab-Life: Great Escape', 'Scarlet Nexus', 'Battle Game in 5 Seconds', 'The Fruit of Evolution: Before I Knew It, My Life Had It Made', 'Combatants Will Be Dispatched!', 'The World Ends With You: The Animation', 'Full Dive: This Ultimate Next-Gen Full Dive RPG Is Even Shittier Than Real Life!', 'Ganbare Douki-chan', 'Shadows House', 'Dragon Goes House-Hunting', 'In the Heart of Kunoichi Tsubaki', 'Obey Me!', 'BUILD-DIVIDE', 'Burning Kabaddi', 'Fairy Ranmaru', 'The Slime Diaries: That Time I Got Reincarnated as a Slime', 'Azur Lane: Slow Ahead!', 'Love of Kill', 'Bottom-tier Character Tomozaki', 'SAKUGAN', 'Koikimo', 'Drug Store in Another World: The Slow Life of a Cheat Pharmacist', 'The Aquatope on White Sand', 'Life With an Ordinary Guy Who Reincarnated Into a Total Fantasy Knockout', \"Heaven's Design Team\", 'FreakAngels', 'High Guardian Spice', 'Rusted Armors', 'Those Snow White Notes', 'The Great Jahy Will Not Be Defeated!', \"WAVE!! -Let's go surfing!!-\", \"Osamake: Romcom Where the Childhood Friend Won't Lose\", 'The Duke of Death and His Maid', 'Tropical-Rouge! Precure', 'Muv-Luv Alternative', 'Tales of Luminaria the Fateful Crossroad', 'Sony Music AnimeSongs ONLINE 2022', 'D_Cide Traumerei the Animation', 'Night Head 2041', 'Ex-Arm', 'Sorairo Utility', \"Let's Make a Mug Too\", 'Otherside Picnic', 'CESTVS -The Roman Fighter-', 'Hortensia Saga', 'Joran: The Princess of Snow and Blood', '2.43: Seiin High School Boys Volleyball Team', 'WIXOSS DIVA(A)LIVE', 'Scar on the Praeter', 'SD Gundam World Heroes', 'MARS RED', 'Seven Knights Revolution: Hero Successor', 'Dr. Ramune: Mysterious Disease Specialist', 'Kiyo in Kyoto: From the Maiko House', 'Back Arrow', 'Farewell, My Dear Cramer', 'I★Chu: Halfway Through the Idol', 'ABCiee Working Diary', 'GLOOMY The Naughty Grizzly', 'Idolls!']\n"
          ]
        }
      ]
    },
    {
      "cell_type": "code",
      "source": [
        "# Searching for closest match\n",
        "finding_close_match = difflib.get_close_matches(anime_name, list_of_all_anime_titles)\n",
        "print(finding_close_match)"
      ],
      "metadata": {
        "colab": {
          "base_uri": "https://localhost:8080/"
        },
        "id": "-Eygyb8_pvIa",
        "outputId": "19b69405-c5ec-4b64-ca31-8d92fb2599bb"
      },
      "execution_count": 27,
      "outputs": [
        {
          "output_type": "stream",
          "name": "stdout",
          "text": [
            "['Lupin the 3rd']\n"
          ]
        }
      ]
    },
    {
      "cell_type": "code",
      "source": [
        "close_match = finding_close_match[0]\n",
        "print(close_match)"
      ],
      "metadata": {
        "colab": {
          "base_uri": "https://localhost:8080/"
        },
        "id": "ZUSDfPzXqaJl",
        "outputId": "b24fab5b-ea32-4de4-9a7d-d97403dc76b1"
      },
      "execution_count": 28,
      "outputs": [
        {
          "output_type": "stream",
          "name": "stdout",
          "text": [
            "Lupin the 3rd\n"
          ]
        }
      ]
    },
    {
      "cell_type": "code",
      "source": [
        "# Index number of close match\n",
        "index_of_the_anime = anime_data[anime_data.title == close_match]['index'].values[0]\n",
        "print(index_of_the_anime)"
      ],
      "metadata": {
        "colab": {
          "base_uri": "https://localhost:8080/"
        },
        "id": "oYK-Du2Wq7K5",
        "outputId": "a6bd282a-37c9-434c-a99a-ed97f11d5888"
      },
      "execution_count": 30,
      "outputs": [
        {
          "output_type": "stream",
          "name": "stdout",
          "text": [
            "4\n"
          ]
        }
      ]
    },
    {
      "cell_type": "code",
      "source": [
        "#  Similarity score\n",
        "similarity_score = list(enumerate(similarity[index_of_the_anime]))\n",
        "print(similarity_score)\n",
        "len(similarity_score)"
      ],
      "metadata": {
        "colab": {
          "base_uri": "https://localhost:8080/"
        },
        "id": "UNA1Wc8Srpnf",
        "outputId": "e9cc1d22-c344-430c-d273-9bfaefe1dc81"
      },
      "execution_count": 31,
      "outputs": [
        {
          "output_type": "stream",
          "name": "stdout",
          "text": [
            "[(0, 0.033487397290090724), (1, 0.19316051758267344), (2, 0.07914046144539058), (3, 0.023457517517651915), (4, 1.0), (5, 0.008375183888552708), (6, 0.12565445258847716), (7, 0.04643794739101337), (8, 0.10474965209533801), (9, 0.13587255127090891), (10, 0.06497437326923004), (11, 0.0), (12, 0.1430641088341283), (13, 0.026328450520046114), (14, 0.04635489822589898), (15, 0.06947984253389511), (16, 0.060165028007493626), (17, 0.0710307853015815), (18, 0.009452462668379069), (19, 0.026971075051814546), (20, 0.029316379336344935), (21, 0.018271202419503897), (22, 0.12783839051965082), (23, 0.050132147041888564), (24, 0.103134093622697), (25, 0.01417335717254778), (26, 0.11819299071248755), (27, 0.19097638365211406), (28, 0.08212151559018654), (29, 0.03662308926771908), (30, 0.22878983289158913), (31, 0.07412477527051692), (32, 0.06948001799330207), (33, 0.03142898106519535), (34, 0.014586982740185996), (35, 0.04500814305997522), (36, 0.03776798356626613), (37, 0.02600130385263267), (38, 0.056269495647642574), (39, 0.04692106917725807), (40, 0.048997988548216756), (41, 0.043536866863886144), (42, 0.030822491950673613), (43, 0.034313290980269334), (44, 0.07140381985441956), (45, 0.0775886329370686), (46, 0.019287791969814953), (47, 0.025275459447066273), (48, 0.07149697723562988), (49, 0.04463030799168219), (50, 0.05287438010078654), (51, 0.060439700968105275), (52, 0.05338499436960292), (53, 0.0652099894732768), (54, 0.04240612973035102), (55, 0.06386784512281847), (56, 0.007109346027882685), (57, 0.03230119792429058), (58, 0.03192153323629259), (59, 0.07280949644833477), (60, 0.03790339613782599), (61, 0.03840223489159425), (62, 0.04101658760819086), (63, 0.045070973024636106), (64, 0.03161107511142851), (65, 0.04274947996332548), (66, 0.046547998209811633), (67, 0.07834400203569793), (68, 0.01774797247638371), (69, 0.04142342939730227), (70, 0.03474712845510981), (71, 0.04528953058484059), (72, 0.15107534117175359), (73, 0.018137668183549806), (74, 0.032267911434839154), (75, 0.020801900638117245), (76, 0.03185345326922704), (77, 0.0431835661119018), (78, 0.1435655395626538), (79, 0.060059135462289845), (80, 0.023966110173338145), (81, 0.04159009529881591), (82, 0.16514402583105803), (83, 0.0503684186190448), (84, 0.07298386260396478), (85, 0.041983113698364924), (86, 0.051643935088539), (87, 0.024655659563865406), (88, 0.0253730636319804), (89, 0.023351486894750636), (90, 0.039234798046342556), (91, 0.01949565446417906), (92, 0.010592703035963462), (93, 0.025715893469296168), (94, 0.0463987242237771), (95, 0.04833403504493153), (96, 0.06794288218824705), (97, 0.031017190843463743), (98, 0.04302567457482326), (99, 0.05117165061416419), (100, 0.04418519853878331), (101, 0.017724178833652147), (102, 0.03902284986820945), (103, 0.036342529476319024), (104, 0.10842484066556521), (105, 0.02609887240927115), (106, 0.03688404468055513), (107, 0.0438665854137356), (108, 0.0398307049048741), (109, 0.03728126807054792), (110, 0.03625434215131019), (111, 0.04750046419449469), (112, 0.03069053458703593), (113, 0.018054023580666174), (114, 0.026589466536838267), (115, 0.03380727244148825), (116, 0.04193953269515903), (117, 0.03836961610189242), (118, 0.03126604994924288), (119, 0.03751140960947589), (120, 0.024280041750793853), (121, 0.017099904993916393), (122, 0.034160684012395), (123, 0.03892344982514154), (124, 0.05090010397126517), (125, 0.04927371921677521), (126, 0.04427089601663819), (127, 0.06369422401765816), (128, 0.029412059512745878), (129, 0.07484713511590683), (130, 0.1340680440212907), (131, 0.03967721787202165), (132, 0.05234209401321571), (133, 0.035553183159014165), (134, 0.06731078553517746), (135, 0.018744800912619115), (136, 0.06718841463246165), (137, 0.03519785998802682), (138, 0.050619486713244774), (139, 0.030773073116208846), (140, 0.04946225962130002), (141, 0.044286629643027695), (142, 0.03005014205737689), (143, 0.04199020983579704), (144, 0.02518436138588201), (145, 0.03559132495282555), (146, 0.09891473118107653), (147, 0.06209351971816851), (148, 0.04760789732833601), (149, 0.03230784202524886), (150, 0.03793737522623663), (151, 0.02728103462244972), (152, 0.06453705324478101), (153, 0.13853489153669313), (154, 0.030667522645072276), (155, 0.11222973298156916), (156, 0.012749005105567191), (157, 0.05054623789534431), (158, 0.03135429000835325), (159, 0.06454503637533443), (160, 0.018023056691810896), (161, 0.06272792198846094), (162, 0.13716838034588097), (163, 0.049233378540093464), (164, 0.030358102939534143), (165, 0.0295442409937419), (166, 0.04629445069503117), (167, 0.03230477066333797), (168, 0.053786790960008574), (169, 0.04373299554046743), (170, 0.06503963456343603), (171, 0.15126717806348788), (172, 0.025759238468611452), (173, 0.11385618849900378), (174, 0.04320634400796608), (175, 0.06315938610090523), (176, 0.0625090705944007), (177, 0.061376005923390195), (178, 0.03291453546281026), (179, 0.0034840386139306147), (180, 0.012647837963459278), (181, 0.01934608932603221), (182, 0.06067570945480354), (183, 0.04567495039858391), (184, 0.03553376845414982), (185, 0.01845463731965465), (186, 0.04536554293607252), (187, 0.03083064070992741), (188, 0.07536868676072073), (189, 0.03687338378673509), (190, 0.035295163004482454), (191, 0.039138637623520836), (192, 0.04351945003182297), (193, 0.05667779372222349), (194, 0.0705794538821557), (195, 0.10688420722063126), (196, 0.04179261127065806), (197, 0.09167831312730071), (198, 0.0785030075577726), (199, 0.027093318956923546), (200, 0.026339491837246973), (201, 0.055022660789567475), (202, 0.07819970194696257), (203, 0.053233283630764634), (204, 0.029741536053162716), (205, 0.13427815757752273), (206, 0.03392315685336287), (207, 0.018593271674679775), (208, 0.045818888508600164), (209, 0.034206263822370075), (210, 0.038922394778698355), (211, 0.11636545863764555), (212, 0.18720921412041838), (213, 0.03211284133043377), (214, 0.018965313587974337), (215, 0.11818311874817164), (216, 0.03586544290868513), (217, 0.013508070327899403), (218, 0.0614505035055248), (219, 0.03518243783386228), (220, 0.07437896715767388), (221, 0.10059681752501132), (222, 0.026629439214558286), (223, 0.047843450879202984), (224, 0.03569789634803162), (225, 0.10513050808428437), (226, 0.024477791571690617), (227, 0.04659909975781084), (228, 0.055985150322336044), (229, 0.03129406007447769), (230, 0.0016877093649590664), (231, 0.011836916585385469), (232, 0.0333857696873858), (233, 0.06582450131927786), (234, 0.0019401515317208145), (235, 0.022171150390390384), (236, 0.07569573732993931), (237, 0.05951406387978028), (238, 0.11693858408687276), (239, 0.08510904408586391), (240, 0.035192356792018924), (241, 0.03218135188010306), (242, 0.021663220224007587), (243, 0.048755623594276466), (244, 0.04500336945163736), (245, 0.039684984996212994), (246, 0.0398861126640062), (247, 0.052597053099477244), (248, 0.02736274434071044), (249, 0.022163144661904347), (250, 0.06500051232123305), (251, 0.10210990286094308), (252, 0.03848232633030898), (253, 0.03218272890174746), (254, 0.05502794365049686), (255, 0.05954976706781445), (256, 0.03575144613653714), (257, 0.05310082171853171), (258, 0.021843130875951328), (259, 0.02318411749282984), (260, 0.029901973050255215), (261, 0.06718476563345095), (262, 0.04159708271218068), (263, 0.04042113522117917), (264, 0.020866473990200723), (265, 0.02574374739092019), (266, 0.031065003218549787), (267, 0.04155161227494233), (268, 0.04007718290610893), (269, 0.10466328430792955), (270, 0.1034879071417139), (271, 0.052649292625228286), (272, 0.03610203699100131), (273, 0.02371437996634459), (274, 0.06372976042093739), (275, 0.04492063386791003), (276, 0.07075728902540324), (277, 0.030702629961034865), (278, 0.05242814152951535), (279, 0.06260708158451461), (280, 0.03565800222419209), (281, 0.11886620903523588), (282, 0.03452710747480874), (283, 0.03630746977529671), (284, 0.051825656167014754), (285, 0.088159831722795), (286, 0.032795213481562356), (287, 0.05222072748036691), (288, 0.01917356327442355), (289, 0.049713232939944785), (290, 0.05895990564027848), (291, 0.04148854520297289), (292, 0.07105213273431904), (293, 0.03233625122051704), (294, 0.010730504263187333), (295, 0.06843128081970935), (296, 0.01746816702970706), (297, 0.03910803945043624), (298, 0.039579830770781546), (299, 0.02882222339192916), (300, 0.018510556055749115), (301, 0.1488581227153571), (302, 0.08108398650332306), (303, 0.03024928031942373), (304, 0.03674674055945759), (305, 0.040348197867816085), (306, 0.031741798710697), (307, 0.02208682298275112), (308, 0.07619122432965685), (309, 0.050807367919815674), (310, 0.020259281637214896), (311, 0.011554780988383322), (312, 0.0), (313, 0.0924776399842525), (314, 0.021527265596877232), (315, 0.0015153163380743886), (316, 0.05735296650966322), (317, 0.05099631639534097), (318, 0.05108612277473794), (319, 0.04819467438233762), (320, 0.05031586145307104), (321, 0.0296679691087295), (322, 0.06387252006635402), (323, 0.06450065339643954), (324, 0.03515270215614321), (325, 0.04769484691355707), (326, 0.05093151098523018), (327, 0.02611481252971505), (328, 0.04310820005732558), (329, 0.05767953204702568), (330, 0.037580438330135406), (331, 0.040361630701953546), (332, 0.03984149538434313), (333, 0.05926104532456334), (334, 0.04097156691891929), (335, 0.054100845925904716), (336, 0.03647375625041177), (337, 0.03521236470191129), (338, 0.05283629369064963), (339, 0.04242297712857676), (340, 0.032988260677885295), (341, 0.05359123819589222), (342, 0.02436674375844738), (343, 0.03066018985264319), (344, 0.051002589778690405), (345, 0.035734515403176584), (346, 0.05076753197592143), (347, 0.023895373639369596), (348, 0.06563544932664372), (349, 0.04562461041484151), (350, 0.019604453240839276), (351, 0.09456581214244815), (352, 0.03834882152121348), (353, 0.033317646821769784), (354, 0.042411321856770885), (355, 0.06577712266436739), (356, 0.039855509358857885), (357, 0.07056547783488343), (358, 0.0945009445761526), (359, 0.05266682225095105), (360, 0.07392207341646972), (361, 0.04053361978345705), (362, 0.0614435743739042), (363, 0.0608919649331662), (364, 0.048505840061863516), (365, 0.025381976762875014), (366, 0.013163721728045702), (367, 0.054209478330135764), (368, 0.05574722534657266), (369, 0.03167370710775142), (370, 0.04895534475693714), (371, 0.04428105730202439), (372, 0.036129375472673975), (373, 0.03293344702214925), (374, 0.06446570631667262), (375, 0.025438989114825356), (376, 0.03688667803341005), (377, 0.04964128359063364), (378, 0.029547568190179684), (379, 0.025774969475951315), (380, 0.03425098619121193), (381, 0.05733749091786569), (382, 0.05780401005057406), (383, 0.043912491795536246), (384, 0.04655221854981144), (385, 0.10078615784376378), (386, 0.02692183975578864), (387, 0.03986646017220952), (388, 0.017368069036063076), (389, 0.026860745415917493), (390, 0.09288632602044512), (391, 0.01841147167107203), (392, 0.006151607225910027), (393, 0.028050546822422806), (394, 0.07174453773388355), (395, 0.05116331423081269), (396, 0.0549652179758863), (397, 0.05619525318333696), (398, 0.01910820583737597), (399, 0.028964602647496757), (400, 0.037466082195876216), (401, 0.01956694105369753), (402, 0.013339979322074135), (403, 0.04816541054899229), (404, 0.002560482359003865), (405, 0.03121175395863411), (406, 0.008933358316664019), (407, 0.032584898090154565), (408, 0.024816299840028165), (409, 0.08128167370437792), (410, 0.05660645478658438), (411, 0.001984331219007639), (412, 0.04452788688347943), (413, 0.06129597179610494), (414, 0.04728376838932567), (415, 0.1765420281031137), (416, 0.025674171957190337), (417, 0.037656300467670066), (418, 0.025965215786321532), (419, 0.02052838172795414), (420, 0.0475435125194542), (421, 0.04156068665232451), (422, 0.1352995093681633), (423, 0.04286439500104437), (424, 0.031703128743841236), (425, 0.03778019565178972), (426, 0.03631825684020983), (427, 0.037738123086810134), (428, 0.03880574359571835), (429, 0.029078111613911283), (430, 0.07511762349170398), (431, 0.028442586361422315), (432, 0.10270991323984952), (433, 0.01678533215075229), (434, 0.03264851389111903), (435, 0.03447798810356442), (436, 0.07225726559832216), (437, 0.042011697193217235), (438, 0.051202296158732966), (439, 0.07107870002200467), (440, 0.032628279770219114), (441, 0.028490360074308024), (442, 0.03740700047391259), (443, 0.08259293218322639), (444, 0.03914751550568232), (445, 0.036849320109715034), (446, 0.0719282050543542), (447, 0.053790948798041624), (448, 0.04858359786725521), (449, 0.041022251975404614), (450, 0.04054924845824828), (451, 0.01972543774324116), (452, 0.024352649578878297), (453, 0.042582171311825484), (454, 0.034391327770497214), (455, 0.040975372883292185), (456, 0.04171769600537911), (457, 0.046615328506383044), (458, 0.0346109958326532), (459, 0.0556312508783541), (460, 0.07148493561208623), (461, 0.03891101366131361), (462, 0.06823017478682131), (463, 0.03400708527528265), (464, 0.018913781239651373), (465, 0.05031506960725766), (466, 0.02957597088776142), (467, 0.03370728618620785), (468, 0.045364533773593604), (469, 0.032221878125909285), (470, 0.02424949549651104), (471, 0.03281278759303304), (472, 0.052256164834251315), (473, 0.04079139580077137), (474, 0.0589555705442149), (475, 0.020029326572760412), (476, 0.0684672514671037), (477, 0.05922190934471723), (478, 0.045472048579583854), (479, 0.06063151480913748), (480, 0.08344347853707139), (481, 0.05027840134572523), (482, 0.05456689614701836), (483, 0.03834453103015685), (484, 0.032213439517296265), (485, 0.04035481601703915), (486, 0.056768617593824955), (487, 0.031061480128008488), (488, 0.036962802219779295), (489, 0.05146621169090555), (490, 0.042835575459204904), (491, 0.03831718714083349), (492, 0.05791101290095959), (493, 0.036500311860706236), (494, 0.015550851141631607), (495, 0.050961678512473976), (496, 0.038392421224468676), (497, 0.05260208671013136), (498, 0.0775647249474905), (499, 0.05972218451112328), (500, 0.04249326388871608), (501, 0.031049880992828207), (502, 0.046075156608451844), (503, 0.031202177315191336), (504, 0.04431846971547547), (505, 0.04653251048474369), (506, 0.07565855897862686), (507, 0.059213806030899166), (508, 0.053521247317669086), (509, 0.04470678912838255), (510, 0.05419844121231958), (511, 0.05687086110123554), (512, 0.07985708773173267), (513, 0.041128617422076366), (514, 0.042539808461667244), (515, 0.027648100637864367), (516, 0.033776067517042194), (517, 0.06307359895853415), (518, 0.03456898219793845), (519, 0.023101380737972927), (520, 0.011108240681473553), (521, 0.011849865365467883), (522, 0.03702556471264822), (523, 0.002622880888558627), (524, 0.04412770518451527), (525, 0.05113497570539738), (526, 0.03754647269042969), (527, 0.05362723547846676), (528, 0.05060275146042545), (529, 0.02822975481231029), (530, 0.05402356568459707), (531, 0.0012983335747286614), (532, 0.03692964199411813), (533, 0.06704486096484397), (534, 0.05058533398307586), (535, 0.04034855914038085), (536, 0.0579427134401392), (537, 0.03642449332486418), (538, 0.0), (539, 0.010276834224898277), (540, 0.04233291667641105), (541, 0.04004739950271747), (542, 0.017440308650125753), (543, 0.029166433610979897), (544, 0.05146711375172187), (545, 0.02569309155541266), (546, 0.04101651165364413), (547, 0.04371103572123835), (548, 0.04588608369143979), (549, 0.04010116250890558), (550, 0.025158675030078258), (551, 0.01574239633079782), (552, 0.04924555143300483), (553, 0.036312968528983136), (554, 0.03285968869362563), (555, 0.017543904952324375), (556, 0.0505798304699386), (557, 0.031416152489631324), (558, 0.04752451695711019), (559, 0.04382201110962858), (560, 0.0327142162018221), (561, 0.017141764142205806), (562, 0.03936807339277179), (563, 0.02219190106804951), (564, 0.040625205768861125), (565, 0.022427872254122693), (566, 0.039910746091388366), (567, 0.016455926073368623), (568, 0.05534522942495951), (569, 0.0287020085951931), (570, 0.010833484578422738), (571, 0.026136605195335044), (572, 0.001236805206797198), (573, 0.04181236921430478), (574, 0.051518612310938156), (575, 0.00251106136620493), (576, 0.017076942873813377), (577, 0.032139690066292206), (578, 0.02411902591148114), (579, 0.04863138826765319), (580, 0.025858035400524074), (581, 0.0), (582, 0.04307493065781739), (583, 0.07361877273743624), (584, 0.013207793702318744), (585, 0.024949613356285545), (586, 0.014876892384330247), (587, 0.04159440792992539), (588, 0.02618289816540991), (589, 0.03891667949850908), (590, 0.06312291140453513), (591, 0.04160281778789199), (592, 0.04389340615791605), (593, 0.04726567895449167), (594, 0.02760513281226801), (595, 0.01226787381050264), (596, 0.0), (597, 0.03802137282023807), (598, 0.03968199709899234), (599, 0.030293540907222062), (600, 0.04474295415888596), (601, 0.027519060250701482), (602, 0.050280225116587245), (603, 0.03181792001578729), (604, 0.07793019105146913), (605, 0.03546516979519782), (606, 0.026167943999411875), (607, 0.04005678616225083), (608, 0.04231252985808413), (609, 0.03139976281898328), (610, 0.03194704546142035), (611, 0.06904703510512769), (612, 0.05004160431479103), (613, 0.05202305126690822), (614, 0.05721169773276511), (615, 0.04572410807789605), (616, 0.060881912092265705), (617, 0.028222770005460227), (618, 0.03492093228258442), (619, 0.050834034294223576), (620, 0.024585071376584562), (621, 0.045794675322919934), (622, 0.032468651119479906), (623, 0.029766010866165545), (624, 0.05165391485771433), (625, 0.027875330524948554), (626, 0.040517719523192414), (627, 0.06278900367902754), (628, 0.050034487485814814), (629, 0.05706103051300977), (630, 0.03865766827831897), (631, 0.03168287991922124), (632, 0.04917751792009924), (633, 0.039502472399318235), (634, 0.01950643262504163), (635, 0.04975880341604171), (636, 0.04565130050876962), (637, 0.03063917584207555), (638, 0.06581295571260876), (639, 0.08940992575028993), (640, 0.03876258848640082), (641, 0.04265665668138269), (642, 0.0396626483115286), (643, 0.07950815546788681), (644, 0.03250468648698686), (645, 0.0432890662424672), (646, 0.03683873466037924), (647, 0.05613413424980955), (648, 0.02534770099006032), (649, 0.046969726377770894), (650, 0.055255952546488574), (651, 0.03613267584253796), (652, 0.04816948532787814), (653, 0.010205959430850507), (654, 0.04479832242478415), (655, 0.017225479154012586), (656, 0.0326773914113197), (657, 0.04987574695500662), (658, 0.04859971212556645), (659, 0.060552632090148356), (660, 0.04860109645386343), (661, 0.0470261268614381), (662, 0.021630084684390722), (663, 0.024413314527253392), (664, 0.025041203476136097), (665, 0.029709877085106765), (666, 0.032681448190459025), (667, 0.03904599003945802), (668, 0.032722761484830436), (669, 0.034355405418997134), (670, 0.026509714353122892), (671, 0.057766559310753855), (672, 0.08460134221640081), (673, 0.03957151385705805), (674, 0.04334136639012019), (675, 0.026826771262536485), (676, 0.048337460668354246), (677, 0.03710996925476806), (678, 0.0735222790335141), (679, 0.029030684226850203), (680, 0.052608361458044664), (681, 0.04585780454891658), (682, 0.04211778440688543), (683, 0.019341659790216372), (684, 0.02137352901593812), (685, 0.03632765513470737), (686, 0.022010040281893416), (687, 0.031605332483573584), (688, 0.018912114109158436), (689, 0.05221619402543455), (690, 0.06890610416715802), (691, 0.05370894812107911), (692, 0.04053960242805009), (693, 0.05758568083220472), (694, 0.03875617816273688), (695, 0.05567676201077697), (696, 0.04548432729596539), (697, 0.03534446842171241), (698, 0.021619298168327864), (699, 0.05998254086132376), (700, 0.05003329591312668), (701, 0.04390336709589469), (702, 0.02970131010447836), (703, 0.025563370131466125), (704, 0.03120067643337099), (705, 0.09180984274825722), (706, 0.026174068412500445), (707, 0.04720455083301457), (708, 0.01585651116639342), (709, 0.03708530972080912), (710, 0.03882636960788563), (711, 0.061155573012064826), (712, 0.027037961100429), (713, 0.060033218713483924), (714, 0.055459693547312984), (715, 0.03534259598239904), (716, 0.07087913630402595), (717, 0.048524267027290444), (718, 0.041497084183182986), (719, 0.03157272433013315), (720, 0.05783138332053852), (721, 0.029446148995756965), (722, 0.04132743472191128), (723, 0.015242475250328213), (724, 0.0427997439343768), (725, 0.03604936125205394), (726, 0.0478273751891074), (727, 0.011493861380888832), (728, 0.06583450133951356), (729, 0.05752205080206296), (730, 0.04791982124007172), (731, 0.0021011267298450542), (732, 0.02064175072277795), (733, 0.036412875954353253), (734, 0.03647797460264264), (735, 0.04105681591901056), (736, 0.03365834814682407), (737, 0.05246490638572958), (738, 0.04819140034664108), (739, 0.016741440908516775), (740, 0.027992122364481162), (741, 0.020783143246417692), (742, 0.046669733098649725), (743, 0.029611596695730012), (744, 0.03279755518266758), (745, 0.05438681263675288), (746, 0.07857807364220981), (747, 0.0177479064281584), (748, 0.009446073106599513), (749, 0.04366071413466162), (750, 0.053078375882847376), (751, 0.027138567226410705), (752, 0.05247433680882094), (753, 0.012375209048294599), (754, 0.050672997294453306), (755, 0.03786757358248769), (756, 0.05438893951524761), (757, 0.02840138361306959), (758, 0.022192834191664033), (759, 0.05841243967052996), (760, 0.022826438698042413), (761, 0.03055425229215343), (762, 0.05438445370369681), (763, 0.025212970215448164), (764, 0.06086545837564461), (765, 0.002480514492750634), (766, 0.0551358356974834), (767, 0.04441864557240082), (768, 0.015927691242517986), (769, 0.0509644098179134), (770, 0.017772983677556815), (771, 0.07597438543584255), (772, 0.031448733016917904), (773, 0.017380422709840623), (774, 0.038063818367825145), (775, 0.05926072688689285), (776, 0.05077895103193844), (777, 0.015948295424386534), (778, 0.034513281584306055), (779, 0.020476599969704808), (780, 0.026509474516068686), (781, 0.05410453968847459), (782, 0.025316030838873245), (783, 0.056793003444569), (784, 0.04118140397316085), (785, 0.056534640041273475), (786, 0.03672620721436537), (787, 0.02327851399735307), (788, 0.018117998758689195), (789, 0.027235915543982893), (790, 0.023075882652179722), (791, 0.043600700560898195), (792, 0.03169584527702124), (793, 0.05570454106903375), (794, 0.048645914913494986), (795, 0.027357004081492973), (796, 0.02490415205225244), (797, 0.05017287367136024), (798, 0.028351636974041763), (799, 0.027560687487839384), (800, 0.02901490764978476), (801, 0.002554720859149101), (802, 0.01655516372326924), (803, 0.047571406287259185), (804, 0.027614391787786588), (805, 0.08187380666314084), (806, 0.010104218195735854), (807, 0.03128397814662156), (808, 0.023388029897942534), (809, 0.0562620840382873), (810, 0.0), (811, 0.02748334214026881), (812, 0.02022729422478247), (813, 0.03592577986351443), (814, 0.010655883518157922), (815, 0.033999750332855516), (816, 0.04374585002400514), (817, 0.06983305500945006), (818, 0.04906218347368561), (819, 0.043592598634003665), (820, 0.0491045457787875), (821, 0.05317349604636764), (822, 0.04710800384835358), (823, 0.06853482817384035), (824, 0.04067957661342025), (825, 0.029729274813420255), (826, 0.05130535454123061), (827, 0.05251584926929892), (828, 0.03711225535167124), (829, 0.03384891421681849), (830, 0.05371109503322388), (831, 0.04061231353951408), (832, 0.0364941775480986), (833, 0.03280508404108824), (834, 0.020907225276428444), (835, 0.03976528040670504), (836, 0.055682903938530995), (837, 0.045819168978890865), (838, 0.02980951748804515), (839, 0.06022489045438456), (840, 0.0472752619801953), (841, 0.08127944163107853), (842, 0.025463834535860333), (843, 0.06330813233468244), (844, 0.043568040485441925), (845, 0.017786014908692093), (846, 0.043270499512417626), (847, 0.024249114407657164), (848, 0.07055553929855449), (849, 0.022079390623464645), (850, 0.07868103378606096), (851, 0.04089532085205832), (852, 0.06739306721833396), (853, 0.047906960301594366), (854, 0.018608259606582016), (855, 0.025423170264459893), (856, 0.04322180413602647), (857, 0.06324108797911146), (858, 0.03142729097358747), (859, 0.07071486892871608), (860, 0.07108917503027705), (861, 0.05430294228115917), (862, 0.016445468203636057), (863, 0.0520442493252223), (864, 0.036727828388527624), (865, 0.013791947766362942), (866, 0.060523858393427075), (867, 0.07927281218375737), (868, 0.025149123173233184), (869, 0.023408853374056755), (870, 0.029256578383846564), (871, 0.040074778940703604), (872, 0.059487645584964666), (873, 0.027142540624170503), (874, 0.05973432292912911), (875, 0.03641580047672454), (876, 0.03743441511077621), (877, 0.07084820171707283), (878, 0.0034020618298004285), (879, 0.051591430836678276), (880, 0.04254975203071243), (881, 0.027921219510128093), (882, 0.031068075527587335), (883, 0.07441156124002646), (884, 0.04460245517396448), (885, 0.02971268996013509), (886, 0.027518597999707697), (887, 0.048178183945416175), (888, 0.04027267870283684), (889, 0.05225511863391688), (890, 0.06434334638707159), (891, 0.03576480283208635), (892, 0.04131018367838053), (893, 0.05899499639812532), (894, 0.04624251537153542), (895, 0.042797048996796955), (896, 0.019428730109870163), (897, 0.03001678490688528), (898, 0.02489654225866697), (899, 0.038542420865390524), (900, 0.06171109524943879), (901, 0.08247943006571876), (902, 0.046383805947185185), (903, 0.02950073899098759), (904, 0.012274879492686182), (905, 0.07046738689480399), (906, 0.04168047269043558), (907, 0.03807668797683553), (908, 0.0551213314518493), (909, 0.060737960340854213), (910, 0.0418393800202667), (911, 0.024878788162433618), (912, 0.04407664047518725), (913, 0.04995611230410085), (914, 0.04697847550356246), (915, 0.07015940188067292), (916, 0.020094707219706534), (917, 0.024313057735496652), (918, 0.06315243990569304), (919, 0.017374267464390403), (920, 0.02795619626006512), (921, 0.005036459975669663), (922, 0.04657925503482818), (923, 0.037243064215414484), (924, 0.017701998158177724), (925, 0.0526159381321646), (926, 0.026399716702861835), (927, 0.038818855025649905), (928, 0.044022244709746916), (929, 0.045701628968050134), (930, 0.04403759069865768), (931, 0.04321310754602449), (932, 0.04396797304293784), (933, 0.02693630429104961), (934, 0.013014822785097786), (935, 0.030296523428782144), (936, 0.038856027327403134), (937, 0.02134165437311832), (938, 0.033671268565147884), (939, 0.018620481660322787), (940, 0.022698299148173336), (941, 0.05630466818710758), (942, 0.021347494923392316), (943, 0.026000262242906146), (944, 0.03882218781077669), (945, 0.04849065679425839), (946, 0.05523167611908412), (947, 0.07008349542563466), (948, 0.03749638572566662), (949, 0.05087726211541786), (950, 0.08230410004930776), (951, 0.030993053802120637), (952, 0.05262656994798814), (953, 0.046912960142068715), (954, 0.02676007554009427), (955, 0.04064218019216678), (956, 0.028016830821148336), (957, 0.040204970589182855), (958, 0.05138105800763925), (959, 0.04540054292604322), (960, 0.0426923895193437), (961, 0.03380684456468608), (962, 0.06485351859572056), (963, 0.03860357284158808), (964, 0.02852457208434237), (965, 0.03976920543797213), (966, 0.030399384429578895), (967, 0.05132079213237648), (968, 0.03357360341924744), (969, 0.05661874684774388), (970, 0.05145748511595566), (971, 0.02660099598311877), (972, 0.06763760133275408), (973, 0.029578995681099514), (974, 0.06828332817021783), (975, 0.05749124349332593), (976, 0.030518121234774022), (977, 0.04327254279602852), (978, 0.02743979501104002), (979, 0.03963742733009602), (980, 0.037518449762946375), (981, 0.022839901952734994), (982, 0.026152044392492434), (983, 0.06597031866670806), (984, 0.06224171047857188), (985, 0.06599636647907443), (986, 0.05162851915768406), (987, 0.021763290405304968), (988, 0.04082247210683535), (989, 0.04139132500421102), (990, 0.024429907700067092), (991, 0.03929948946177057), (992, 0.04747205749000328), (993, 0.047095034948073836), (994, 0.06114238705326121), (995, 0.05299760988119038), (996, 0.056227327594615434), (997, 0.02923782019604257), (998, 0.04676652959712041), (999, 0.0471920758457613), (1000, 0.011712557883018296), (1001, 0.0438128397728762), (1002, 0.010944968589877755), (1003, 0.040368988688403135), (1004, 0.05033896268446081), (1005, 0.06460940164933693), (1006, 0.03940106155761147), (1007, 0.13135920046305508), (1008, 0.04220172799146058), (1009, 0.0787559408073103), (1010, 0.04778510022116355), (1011, 0.03093145548431222), (1012, 0.03484224632602592), (1013, 0.05524506050166795), (1014, 0.032145308461915906), (1015, 0.04657410731735292), (1016, 0.07314384213003325), (1017, 0.048430002788741294), (1018, 0.04108831516791784), (1019, 0.056173308146517865), (1020, 0.0401758812214329), (1021, 0.06629112940031552), (1022, 0.04861449024096387), (1023, 0.05892896463245695), (1024, 0.04329510761956763), (1025, 0.02235716319890212), (1026, 0.03746159759197503), (1027, 0.06627701147124394), (1028, 0.010118080179003773), (1029, 0.026239677587121556), (1030, 0.036910338246897156), (1031, 0.03958792520596178), (1032, 0.033644944354177), (1033, 0.018779117505029884), (1034, 0.03967445274733178), (1035, 0.022764652774096252), (1036, 0.04973225357937899), (1037, 0.023166849313426795), (1038, 0.027422485434196217), (1039, 0.03870122185373907), (1040, 0.03613959176167084), (1041, 0.033097127736596024), (1042, 0.04426636795633206), (1043, 0.03578005442800226), (1044, 0.035243279700783774), (1045, 0.04976566331372513), (1046, 0.022041743174507883), (1047, 0.011336619868514865), (1048, 0.004903785822192783), (1049, 0.018250179287111614), (1050, 0.052370800234448164), (1051, 0.021675753746276533), (1052, 0.06042566792163819), (1053, 0.0429445900987807), (1054, 0.0695480138313109), (1055, 0.04266044733102356), (1056, 0.06652758852849737), (1057, 0.025055598476912456), (1058, 0.0391923083218568), (1059, 0.0416116637298639), (1060, 0.029535064637664196), (1061, 0.03210464661683101), (1062, 0.05502010440928909), (1063, 0.061526111913323675), (1064, 0.03794195569335806), (1065, 0.034829200192550175), (1066, 0.060277468806725534), (1067, 0.026739550214699065), (1068, 0.02728218695737205), (1069, 0.05085081868895802), (1070, 0.04941468175519663), (1071, 0.036044265422569624), (1072, 0.054722356827882276), (1073, 0.03208508486308454), (1074, 0.02372368321050114), (1075, 0.040821033083174155), (1076, 0.03669205693545178), (1077, 0.030582195760902344), (1078, 0.06309811347096722), (1079, 0.044473792293416525), (1080, 0.013680426233600024)]\n"
          ]
        },
        {
          "output_type": "execute_result",
          "data": {
            "text/plain": [
              "1081"
            ]
          },
          "metadata": {},
          "execution_count": 31
        }
      ]
    },
    {
      "cell_type": "code",
      "source": [
        "sorted_similar_anime = sorted(similarity_score, key = lambda x:x[1], reverse = True) \n",
        "print(sorted_similar_anime)"
      ],
      "metadata": {
        "colab": {
          "base_uri": "https://localhost:8080/"
        },
        "id": "DvDPPaQnsCmD",
        "outputId": "48d5881e-5882-46c3-983e-3d2806845e33"
      },
      "execution_count": 33,
      "outputs": [
        {
          "output_type": "stream",
          "name": "stdout",
          "text": [
            "[(4, 1.0), (30, 0.22878983289158913), (1, 0.19316051758267344), (27, 0.19097638365211406), (212, 0.18720921412041838), (415, 0.1765420281031137), (82, 0.16514402583105803), (171, 0.15126717806348788), (72, 0.15107534117175359), (301, 0.1488581227153571), (78, 0.1435655395626538), (12, 0.1430641088341283), (153, 0.13853489153669313), (162, 0.13716838034588097), (9, 0.13587255127090891), (422, 0.1352995093681633), (205, 0.13427815757752273), (130, 0.1340680440212907), (1007, 0.13135920046305508), (22, 0.12783839051965082), (6, 0.12565445258847716), (281, 0.11886620903523588), (26, 0.11819299071248755), (215, 0.11818311874817164), (238, 0.11693858408687276), (211, 0.11636545863764555), (173, 0.11385618849900378), (155, 0.11222973298156916), (104, 0.10842484066556521), (195, 0.10688420722063126), (225, 0.10513050808428437), (8, 0.10474965209533801), (269, 0.10466328430792955), (270, 0.1034879071417139), (24, 0.103134093622697), (432, 0.10270991323984952), (251, 0.10210990286094308), (385, 0.10078615784376378), (221, 0.10059681752501132), (146, 0.09891473118107653), (351, 0.09456581214244815), (358, 0.0945009445761526), (390, 0.09288632602044512), (313, 0.0924776399842525), (705, 0.09180984274825722), (197, 0.09167831312730071), (639, 0.08940992575028993), (285, 0.088159831722795), (239, 0.08510904408586391), (672, 0.08460134221640081), (480, 0.08344347853707139), (443, 0.08259293218322639), (901, 0.08247943006571876), (950, 0.08230410004930776), (28, 0.08212151559018654), (805, 0.08187380666314084), (409, 0.08128167370437792), (841, 0.08127944163107853), (302, 0.08108398650332306), (512, 0.07985708773173267), (643, 0.07950815546788681), (867, 0.07927281218375737), (2, 0.07914046144539058), (1009, 0.0787559408073103), (850, 0.07868103378606096), (746, 0.07857807364220981), (198, 0.0785030075577726), (67, 0.07834400203569793), (202, 0.07819970194696257), (604, 0.07793019105146913), (45, 0.0775886329370686), (498, 0.0775647249474905), (308, 0.07619122432965685), (771, 0.07597438543584255), (236, 0.07569573732993931), (506, 0.07565855897862686), (188, 0.07536868676072073), (430, 0.07511762349170398), (129, 0.07484713511590683), (883, 0.07441156124002646), (220, 0.07437896715767388), (31, 0.07412477527051692), (360, 0.07392207341646972), (583, 0.07361877273743624), (678, 0.0735222790335141), (1016, 0.07314384213003325), (84, 0.07298386260396478), (59, 0.07280949644833477), (436, 0.07225726559832216), (446, 0.0719282050543542), (394, 0.07174453773388355), (48, 0.07149697723562988), (460, 0.07148493561208623), (44, 0.07140381985441956), (860, 0.07108917503027705), (439, 0.07107870002200467), (292, 0.07105213273431904), (17, 0.0710307853015815), (716, 0.07087913630402595), (877, 0.07084820171707283), (276, 0.07075728902540324), (859, 0.07071486892871608), (194, 0.0705794538821557), (357, 0.07056547783488343), (848, 0.07055553929855449), (905, 0.07046738689480399), (915, 0.07015940188067292), (947, 0.07008349542563466), (817, 0.06983305500945006), (1054, 0.0695480138313109), (32, 0.06948001799330207), (15, 0.06947984253389511), (611, 0.06904703510512769), (690, 0.06890610416715802), (823, 0.06853482817384035), (476, 0.0684672514671037), (295, 0.06843128081970935), (974, 0.06828332817021783), (462, 0.06823017478682131), (96, 0.06794288218824705), (972, 0.06763760133275408), (852, 0.06739306721833396), (134, 0.06731078553517746), (136, 0.06718841463246165), (261, 0.06718476563345095), (533, 0.06704486096484397), (1056, 0.06652758852849737), (1021, 0.06629112940031552), (1027, 0.06627701147124394), (985, 0.06599636647907443), (983, 0.06597031866670806), (728, 0.06583450133951356), (233, 0.06582450131927786), (638, 0.06581295571260876), (355, 0.06577712266436739), (348, 0.06563544932664372), (53, 0.0652099894732768), (170, 0.06503963456343603), (250, 0.06500051232123305), (10, 0.06497437326923004), (962, 0.06485351859572056), (1005, 0.06460940164933693), (159, 0.06454503637533443), (152, 0.06453705324478101), (323, 0.06450065339643954), (374, 0.06446570631667262), (890, 0.06434334638707159), (322, 0.06387252006635402), (55, 0.06386784512281847), (274, 0.06372976042093739), (127, 0.06369422401765816), (843, 0.06330813233468244), (857, 0.06324108797911146), (175, 0.06315938610090523), (918, 0.06315243990569304), (590, 0.06312291140453513), (1078, 0.06309811347096722), (517, 0.06307359895853415), (627, 0.06278900367902754), (161, 0.06272792198846094), (279, 0.06260708158451461), (176, 0.0625090705944007), (984, 0.06224171047857188), (147, 0.06209351971816851), (900, 0.06171109524943879), (1063, 0.061526111913323675), (218, 0.0614505035055248), (362, 0.0614435743739042), (177, 0.061376005923390195), (413, 0.06129597179610494), (711, 0.061155573012064826), (994, 0.06114238705326121), (363, 0.0608919649331662), (616, 0.060881912092265705), (764, 0.06086545837564461), (909, 0.060737960340854213), (182, 0.06067570945480354), (479, 0.06063151480913748), (659, 0.060552632090148356), (866, 0.060523858393427075), (51, 0.060439700968105275), (1052, 0.06042566792163819), (1066, 0.060277468806725534), (839, 0.06022489045438456), (16, 0.060165028007493626), (79, 0.060059135462289845), (713, 0.060033218713483924), (699, 0.05998254086132376), (874, 0.05973432292912911), (499, 0.05972218451112328), (255, 0.05954976706781445), (237, 0.05951406387978028), (872, 0.059487645584964666), (333, 0.05926104532456334), (775, 0.05926072688689285), (477, 0.05922190934471723), (507, 0.059213806030899166), (893, 0.05899499639812532), (290, 0.05895990564027848), (474, 0.0589555705442149), (1023, 0.05892896463245695), (759, 0.05841243967052996), (536, 0.0579427134401392), (492, 0.05791101290095959), (720, 0.05783138332053852), (382, 0.05780401005057406), (671, 0.057766559310753855), (329, 0.05767953204702568), (693, 0.05758568083220472), (729, 0.05752205080206296), (975, 0.05749124349332593), (316, 0.05735296650966322), (381, 0.05733749091786569), (614, 0.05721169773276511), (629, 0.05706103051300977), (511, 0.05687086110123554), (783, 0.056793003444569), (486, 0.056768617593824955), (193, 0.05667779372222349), (969, 0.05661874684774388), (410, 0.05660645478658438), (785, 0.056534640041273475), (941, 0.05630466818710758), (38, 0.056269495647642574), (809, 0.0562620840382873), (996, 0.056227327594615434), (397, 0.05619525318333696), (1019, 0.056173308146517865), (647, 0.05613413424980955), (228, 0.055985150322336044), (368, 0.05574722534657266), (793, 0.05570454106903375), (836, 0.055682903938530995), (695, 0.05567676201077697), (459, 0.0556312508783541), (714, 0.055459693547312984), (568, 0.05534522942495951), (650, 0.055255952546488574), (1013, 0.05524506050166795), (946, 0.05523167611908412), (766, 0.0551358356974834), (908, 0.0551213314518493), (254, 0.05502794365049686), (201, 0.055022660789567475), (1062, 0.05502010440928909), (396, 0.0549652179758863), (1072, 0.054722356827882276), (482, 0.05456689614701836), (756, 0.05438893951524761), (745, 0.05438681263675288), (762, 0.05438445370369681), (861, 0.05430294228115917), (367, 0.054209478330135764), (510, 0.05419844121231958), (781, 0.05410453968847459), (335, 0.054100845925904716), (530, 0.05402356568459707), (447, 0.053790948798041624), (168, 0.053786790960008574), (830, 0.05371109503322388), (691, 0.05370894812107911), (527, 0.05362723547846676), (341, 0.05359123819589222), (508, 0.053521247317669086), (52, 0.05338499436960292), (203, 0.053233283630764634), (821, 0.05317349604636764), (257, 0.05310082171853171), (750, 0.053078375882847376), (995, 0.05299760988119038), (50, 0.05287438010078654), (338, 0.05283629369064963), (359, 0.05266682225095105), (271, 0.052649292625228286), (952, 0.05262656994798814), (925, 0.0526159381321646), (680, 0.052608361458044664), (497, 0.05260208671013136), (247, 0.052597053099477244), (827, 0.05251584926929892), (752, 0.05247433680882094), (737, 0.05246490638572958), (278, 0.05242814152951535), (1050, 0.052370800234448164), (132, 0.05234209401321571), (472, 0.052256164834251315), (889, 0.05225511863391688), (287, 0.05222072748036691), (689, 0.05221619402543455), (863, 0.0520442493252223), (613, 0.05202305126690822), (284, 0.051825656167014754), (624, 0.05165391485771433), (86, 0.051643935088539), (986, 0.05162851915768406), (879, 0.051591430836678276), (574, 0.051518612310938156), (544, 0.05146711375172187), (489, 0.05146621169090555), (970, 0.05145748511595566), (958, 0.05138105800763925), (967, 0.05132079213237648), (826, 0.05130535454123061), (438, 0.051202296158732966), (99, 0.05117165061416419), (395, 0.05116331423081269), (525, 0.05113497570539738), (318, 0.05108612277473794), (344, 0.051002589778690405), (317, 0.05099631639534097), (769, 0.0509644098179134), (495, 0.050961678512473976), (326, 0.05093151098523018), (124, 0.05090010397126517), (949, 0.05087726211541786), (1069, 0.05085081868895802), (619, 0.050834034294223576), (309, 0.050807367919815674), (776, 0.05077895103193844), (346, 0.05076753197592143), (754, 0.050672997294453306), (138, 0.050619486713244774), (528, 0.05060275146042545), (534, 0.05058533398307586), (556, 0.0505798304699386), (157, 0.05054623789534431), (83, 0.0503684186190448), (1004, 0.05033896268446081), (320, 0.05031586145307104), (465, 0.05031506960725766), (602, 0.050280225116587245), (481, 0.05027840134572523), (797, 0.05017287367136024), (23, 0.050132147041888564), (612, 0.05004160431479103), (628, 0.050034487485814814), (700, 0.05003329591312668), (913, 0.04995611230410085), (657, 0.04987574695500662), (1045, 0.04976566331372513), (635, 0.04975880341604171), (1036, 0.04973225357937899), (289, 0.049713232939944785), (377, 0.04964128359063364), (140, 0.04946225962130002), (1070, 0.04941468175519663), (125, 0.04927371921677521), (552, 0.04924555143300483), (163, 0.049233378540093464), (632, 0.04917751792009924), (820, 0.0491045457787875), (818, 0.04906218347368561), (40, 0.048997988548216756), (370, 0.04895534475693714), (243, 0.048755623594276466), (794, 0.048645914913494986), (579, 0.04863138826765319), (1022, 0.04861449024096387), (660, 0.04860109645386343), (658, 0.04859971212556645), (448, 0.04858359786725521), (717, 0.048524267027290444), (364, 0.048505840061863516), (945, 0.04849065679425839), (1017, 0.048430002788741294), (676, 0.048337460668354246), (95, 0.04833403504493153), (319, 0.04819467438233762), (738, 0.04819140034664108), (887, 0.048178183945416175), (652, 0.04816948532787814), (403, 0.04816541054899229), (730, 0.04791982124007172), (853, 0.047906960301594366), (223, 0.047843450879202984), (726, 0.0478273751891074), (1010, 0.04778510022116355), (325, 0.04769484691355707), (148, 0.04760789732833601), (803, 0.047571406287259185), (420, 0.0475435125194542), (558, 0.04752451695711019), (111, 0.04750046419449469), (992, 0.04747205749000328), (414, 0.04728376838932567), (840, 0.0472752619801953), (593, 0.04726567895449167), (707, 0.04720455083301457), (999, 0.0471920758457613), (822, 0.04710800384835358), (993, 0.047095034948073836), (661, 0.0470261268614381), (914, 0.04697847550356246), (649, 0.046969726377770894), (39, 0.04692106917725807), (953, 0.046912960142068715), (998, 0.04676652959712041), (742, 0.046669733098649725), (457, 0.046615328506383044), (227, 0.04659909975781084), (922, 0.04657925503482818), (1015, 0.04657410731735292), (384, 0.04655221854981144), (66, 0.046547998209811633), (505, 0.04653251048474369), (7, 0.04643794739101337), (94, 0.0463987242237771), (902, 0.046383805947185185), (14, 0.04635489822589898), (166, 0.04629445069503117), (894, 0.04624251537153542), (502, 0.046075156608451844), (548, 0.04588608369143979), (681, 0.04585780454891658), (837, 0.045819168978890865), (208, 0.045818888508600164), (621, 0.045794675322919934), (615, 0.04572410807789605), (929, 0.045701628968050134), (183, 0.04567495039858391), (636, 0.04565130050876962), (349, 0.04562461041484151), (696, 0.04548432729596539), (478, 0.045472048579583854), (959, 0.04540054292604322), (186, 0.04536554293607252), (468, 0.045364533773593604), (71, 0.04528953058484059), (63, 0.045070973024636106), (35, 0.04500814305997522), (244, 0.04500336945163736), (275, 0.04492063386791003), (654, 0.04479832242478415), (600, 0.04474295415888596), (509, 0.04470678912838255), (49, 0.04463030799168219), (884, 0.04460245517396448), (412, 0.04452788688347943), (1079, 0.044473792293416525), (767, 0.04441864557240082), (504, 0.04431846971547547), (141, 0.044286629643027695), (371, 0.04428105730202439), (126, 0.04427089601663819), (1042, 0.04426636795633206), (100, 0.04418519853878331), (524, 0.04412770518451527), (912, 0.04407664047518725), (930, 0.04403759069865768), (928, 0.044022244709746916), (932, 0.04396797304293784), (383, 0.043912491795536246), (701, 0.04390336709589469), (592, 0.04389340615791605), (107, 0.0438665854137356), (559, 0.04382201110962858), (1001, 0.0438128397728762), (816, 0.04374585002400514), (169, 0.04373299554046743), (547, 0.04371103572123835), (749, 0.04366071413466162), (791, 0.043600700560898195), (819, 0.043592598634003665), (844, 0.043568040485441925), (41, 0.043536866863886144), (192, 0.04351945003182297), (674, 0.04334136639012019), (1024, 0.04329510761956763), (645, 0.0432890662424672), (977, 0.04327254279602852), (846, 0.043270499512417626), (856, 0.04322180413602647), (931, 0.04321310754602449), (174, 0.04320634400796608), (77, 0.0431835661119018), (328, 0.04310820005732558), (582, 0.04307493065781739), (98, 0.04302567457482326), (1053, 0.0429445900987807), (423, 0.04286439500104437), (490, 0.042835575459204904), (724, 0.0427997439343768), (895, 0.042797048996796955), (65, 0.04274947996332548), (960, 0.0426923895193437), (1055, 0.04266044733102356), (641, 0.04265665668138269), (453, 0.042582171311825484), (880, 0.04254975203071243), (514, 0.042539808461667244), (500, 0.04249326388871608), (339, 0.04242297712857676), (354, 0.042411321856770885), (54, 0.04240612973035102), (540, 0.04233291667641105), (608, 0.04231252985808413), (1008, 0.04220172799146058), (682, 0.04211778440688543), (437, 0.042011697193217235), (143, 0.04199020983579704), (85, 0.041983113698364924), (116, 0.04193953269515903), (910, 0.0418393800202667), (573, 0.04181236921430478), (196, 0.04179261127065806), (456, 0.04171769600537911), (906, 0.04168047269043558), (1059, 0.0416116637298639), (591, 0.04160281778789199), (262, 0.04159708271218068), (587, 0.04159440792992539), (81, 0.04159009529881591), (421, 0.04156068665232451), (267, 0.04155161227494233), (718, 0.041497084183182986), (291, 0.04148854520297289), (69, 0.04142342939730227), (989, 0.04139132500421102), (722, 0.04132743472191128), (892, 0.04131018367838053), (784, 0.04118140397316085), (513, 0.041128617422076366), (1018, 0.04108831516791784), (735, 0.04105681591901056), (449, 0.041022251975404614), (62, 0.04101658760819086), (546, 0.04101651165364413), (455, 0.040975372883292185), (334, 0.04097156691891929), (851, 0.04089532085205832), (988, 0.04082247210683535), (1075, 0.040821033083174155), (473, 0.04079139580077137), (824, 0.04067957661342025), (955, 0.04064218019216678), (564, 0.040625205768861125), (831, 0.04061231353951408), (450, 0.04054924845824828), (692, 0.04053960242805009), (361, 0.04053361978345705), (626, 0.040517719523192414), (263, 0.04042113522117917), (1003, 0.040368988688403135), (331, 0.040361630701953546), (485, 0.04035481601703915), (535, 0.04034855914038085), (305, 0.040348197867816085), (888, 0.04027267870283684), (957, 0.040204970589182855), (1020, 0.0401758812214329), (549, 0.04010116250890558), (268, 0.04007718290610893), (871, 0.040074778940703604), (607, 0.04005678616225083), (541, 0.04004739950271747), (566, 0.039910746091388366), (246, 0.0398861126640062), (387, 0.03986646017220952), (356, 0.039855509358857885), (332, 0.03984149538434313), (108, 0.0398307049048741), (965, 0.03976920543797213), (835, 0.03976528040670504), (245, 0.039684984996212994), (598, 0.03968199709899234), (131, 0.03967721787202165), (1034, 0.03967445274733178), (642, 0.0396626483115286), (979, 0.03963742733009602), (1031, 0.03958792520596178), (298, 0.039579830770781546), (673, 0.03957151385705805), (633, 0.039502472399318235), (1006, 0.03940106155761147), (562, 0.03936807339277179), (991, 0.03929948946177057), (90, 0.039234798046342556), (1058, 0.0391923083218568), (444, 0.03914751550568232), (191, 0.039138637623520836), (297, 0.03910803945043624), (667, 0.03904599003945802), (102, 0.03902284986820945), (123, 0.03892344982514154), (210, 0.038922394778698355), (589, 0.03891667949850908), (461, 0.03891101366131361), (936, 0.038856027327403134), (710, 0.03882636960788563), (944, 0.03882218781077669), (927, 0.038818855025649905), (428, 0.03880574359571835), (640, 0.03876258848640082), (694, 0.03875617816273688), (1039, 0.03870122185373907), (630, 0.03865766827831897), (963, 0.03860357284158808), (899, 0.038542420865390524), (252, 0.03848232633030898), (61, 0.03840223489159425), (496, 0.038392421224468676), (117, 0.03836961610189242), (352, 0.03834882152121348), (483, 0.03834453103015685), (491, 0.03831718714083349), (907, 0.03807668797683553), (774, 0.038063818367825145), (597, 0.03802137282023807), (1064, 0.03794195569335806), (150, 0.03793737522623663), (60, 0.03790339613782599), (755, 0.03786757358248769), (425, 0.03778019565178972), (36, 0.03776798356626613), (427, 0.037738123086810134), (417, 0.037656300467670066), (330, 0.037580438330135406), (526, 0.03754647269042969), (980, 0.037518449762946375), (119, 0.03751140960947589), (948, 0.03749638572566662), (400, 0.037466082195876216), (1026, 0.03746159759197503), (876, 0.03743441511077621), (442, 0.03740700047391259), (109, 0.03728126807054792), (923, 0.037243064215414484), (828, 0.03711225535167124), (677, 0.03710996925476806), (709, 0.03708530972080912), (522, 0.03702556471264822), (488, 0.036962802219779295), (532, 0.03692964199411813), (1030, 0.036910338246897156), (376, 0.03688667803341005), (106, 0.03688404468055513), (189, 0.03687338378673509), (445, 0.036849320109715034), (646, 0.03683873466037924), (304, 0.03674674055945759), (864, 0.036727828388527624), (786, 0.03672620721436537), (1076, 0.03669205693545178), (29, 0.03662308926771908), (493, 0.036500311860706236), (832, 0.0364941775480986), (734, 0.03647797460264264), (336, 0.03647375625041177), (537, 0.03642449332486418), (875, 0.03641580047672454), (733, 0.036412875954353253), (103, 0.036342529476319024), (685, 0.03632765513470737), (426, 0.03631825684020983), (553, 0.036312968528983136), (283, 0.03630746977529671), (110, 0.03625434215131019), (1040, 0.03613959176167084), (651, 0.03613267584253796), (372, 0.036129375472673975), (272, 0.03610203699100131), (725, 0.03604936125205394), (1071, 0.036044265422569624), (813, 0.03592577986351443), (216, 0.03586544290868513), (1043, 0.03578005442800226), (891, 0.03576480283208635), (256, 0.03575144613653714), (345, 0.035734515403176584), (224, 0.03569789634803162), (280, 0.03565800222419209), (145, 0.03559132495282555), (133, 0.035553183159014165), (184, 0.03553376845414982), (605, 0.03546516979519782), (697, 0.03534446842171241), (715, 0.03534259598239904), (190, 0.035295163004482454), (1044, 0.035243279700783774), (337, 0.03521236470191129), (137, 0.03519785998802682), (240, 0.035192356792018924), (219, 0.03518243783386228), (324, 0.03515270215614321), (618, 0.03492093228258442), (1012, 0.03484224632602592), (1065, 0.034829200192550175), (70, 0.03474712845510981), (458, 0.0346109958326532), (518, 0.03456898219793845), (282, 0.03452710747480874), (778, 0.034513281584306055), (435, 0.03447798810356442), (454, 0.034391327770497214), (669, 0.034355405418997134), (43, 0.034313290980269334), (380, 0.03425098619121193), (209, 0.034206263822370075), (122, 0.034160684012395), (463, 0.03400708527528265), (815, 0.033999750332855516), (206, 0.03392315685336287), (829, 0.03384891421681849), (115, 0.03380727244148825), (961, 0.03380684456468608), (516, 0.033776067517042194), (467, 0.03370728618620785), (938, 0.033671268565147884), (736, 0.03365834814682407), (1032, 0.033644944354177), (968, 0.03357360341924744), (0, 0.033487397290090724), (232, 0.0333857696873858), (353, 0.033317646821769784), (1041, 0.033097127736596024), (340, 0.032988260677885295), (373, 0.03293344702214925), (178, 0.03291453546281026), (554, 0.03285968869362563), (471, 0.03281278759303304), (833, 0.03280508404108824), (744, 0.03279755518266758), (286, 0.032795213481562356), (668, 0.032722761484830436), (560, 0.0327142162018221), (666, 0.032681448190459025), (656, 0.0326773914113197), (434, 0.03264851389111903), (440, 0.032628279770219114), (407, 0.032584898090154565), (644, 0.03250468648698686), (622, 0.032468651119479906), (293, 0.03233625122051704), (149, 0.03230784202524886), (167, 0.03230477066333797), (57, 0.03230119792429058), (74, 0.032267911434839154), (469, 0.032221878125909285), (484, 0.032213439517296265), (253, 0.03218272890174746), (241, 0.03218135188010306), (1014, 0.032145308461915906), (577, 0.032139690066292206), (213, 0.03211284133043377), (1061, 0.03210464661683101), (1073, 0.03208508486308454), (610, 0.03194704546142035), (58, 0.03192153323629259), (76, 0.03185345326922704), (603, 0.03181792001578729), (306, 0.031741798710697), (424, 0.031703128743841236), (792, 0.03169584527702124), (631, 0.03168287991922124), (369, 0.03167370710775142), (64, 0.03161107511142851), (687, 0.031605332483573584), (719, 0.03157272433013315), (772, 0.031448733016917904), (33, 0.03142898106519535), (858, 0.03142729097358747), (557, 0.031416152489631324), (609, 0.03139976281898328), (158, 0.03135429000835325), (229, 0.03129406007447769), (807, 0.03128397814662156), (118, 0.03126604994924288), (405, 0.03121175395863411), (503, 0.031202177315191336), (704, 0.03120067643337099), (882, 0.031068075527587335), (266, 0.031065003218549787), (487, 0.031061480128008488), (501, 0.031049880992828207), (97, 0.031017190843463743), (951, 0.030993053802120637), (1011, 0.03093145548431222), (187, 0.03083064070992741), (42, 0.030822491950673613), (139, 0.030773073116208846), (277, 0.030702629961034865), (112, 0.03069053458703593), (154, 0.030667522645072276), (343, 0.03066018985264319), (637, 0.03063917584207555), (1077, 0.030582195760902344), (761, 0.03055425229215343), (976, 0.030518121234774022), (966, 0.030399384429578895), (164, 0.030358102939534143), (935, 0.030296523428782144), (599, 0.030293540907222062), (303, 0.03024928031942373), (142, 0.03005014205737689), (897, 0.03001678490688528), (260, 0.029901973050255215), (838, 0.02980951748804515), (623, 0.029766010866165545), (204, 0.029741536053162716), (825, 0.029729274813420255), (885, 0.02971268996013509), (665, 0.029709877085106765), (702, 0.02970131010447836), (321, 0.0296679691087295), (743, 0.029611596695730012), (973, 0.029578995681099514), (466, 0.02957597088776142), (378, 0.029547568190179684), (165, 0.0295442409937419), (1060, 0.029535064637664196), (903, 0.02950073899098759), (721, 0.029446148995756965), (128, 0.029412059512745878), (20, 0.029316379336344935), (870, 0.029256578383846564), (997, 0.02923782019604257), (543, 0.029166433610979897), (429, 0.029078111613911283), (679, 0.029030684226850203), (800, 0.02901490764978476), (399, 0.028964602647496757), (299, 0.02882222339192916), (569, 0.0287020085951931), (964, 0.02852457208434237), (441, 0.028490360074308024), (431, 0.028442586361422315), (757, 0.02840138361306959), (798, 0.028351636974041763), (529, 0.02822975481231029), (617, 0.028222770005460227), (393, 0.028050546822422806), (956, 0.028016830821148336), (740, 0.027992122364481162), (920, 0.02795619626006512), (881, 0.027921219510128093), (625, 0.027875330524948554), (515, 0.027648100637864367), (804, 0.027614391787786588), (594, 0.02760513281226801), (799, 0.027560687487839384), (601, 0.027519060250701482), (886, 0.027518597999707697), (811, 0.02748334214026881), (978, 0.02743979501104002), (1038, 0.027422485434196217), (248, 0.02736274434071044), (795, 0.027357004081492973), (1068, 0.02728218695737205), (151, 0.02728103462244972), (789, 0.027235915543982893), (873, 0.027142540624170503), (751, 0.027138567226410705), (199, 0.027093318956923546), (712, 0.027037961100429), (19, 0.026971075051814546), (933, 0.02693630429104961), (386, 0.02692183975578864), (389, 0.026860745415917493), (675, 0.026826771262536485), (954, 0.02676007554009427), (1067, 0.026739550214699065), (222, 0.026629439214558286), (971, 0.02660099598311877), (114, 0.026589466536838267), (670, 0.026509714353122892), (780, 0.026509474516068686), (926, 0.026399716702861835), (200, 0.026339491837246973), (13, 0.026328450520046114), (1029, 0.026239677587121556), (588, 0.02618289816540991), (706, 0.026174068412500445), (606, 0.026167943999411875), (982, 0.026152044392492434), (571, 0.026136605195335044), (327, 0.02611481252971505), (105, 0.02609887240927115), (37, 0.02600130385263267), (943, 0.026000262242906146), (418, 0.025965215786321532), (580, 0.025858035400524074), (379, 0.025774969475951315), (172, 0.025759238468611452), (265, 0.02574374739092019), (93, 0.025715893469296168), (545, 0.02569309155541266), (416, 0.025674171957190337), (703, 0.025563370131466125), (842, 0.025463834535860333), (375, 0.025438989114825356), (855, 0.025423170264459893), (365, 0.025381976762875014), (88, 0.0253730636319804), (648, 0.02534770099006032), (782, 0.025316030838873245), (47, 0.025275459447066273), (763, 0.025212970215448164), (144, 0.02518436138588201), (550, 0.025158675030078258), (868, 0.025149123173233184), (1057, 0.025055598476912456), (664, 0.025041203476136097), (585, 0.024949613356285545), (796, 0.02490415205225244), (898, 0.02489654225866697), (911, 0.024878788162433618), (408, 0.024816299840028165), (87, 0.024655659563865406), (620, 0.024585071376584562), (226, 0.024477791571690617), (990, 0.024429907700067092), (663, 0.024413314527253392), (342, 0.02436674375844738), (452, 0.024352649578878297), (917, 0.024313057735496652), (120, 0.024280041750793853), (470, 0.02424949549651104), (847, 0.024249114407657164), (578, 0.02411902591148114), (80, 0.023966110173338145), (347, 0.023895373639369596), (1074, 0.02372368321050114), (273, 0.02371437996634459), (3, 0.023457517517651915), (869, 0.023408853374056755), (808, 0.023388029897942534), (89, 0.023351486894750636), (787, 0.02327851399735307), (259, 0.02318411749282984), (1037, 0.023166849313426795), (519, 0.023101380737972927), (790, 0.023075882652179722), (981, 0.022839901952734994), (760, 0.022826438698042413), (1035, 0.022764652774096252), (940, 0.022698299148173336), (565, 0.022427872254122693), (1025, 0.02235716319890212), (758, 0.022192834191664033), (563, 0.02219190106804951), (235, 0.022171150390390384), (249, 0.022163144661904347), (307, 0.02208682298275112), (849, 0.022079390623464645), (1046, 0.022041743174507883), (686, 0.022010040281893416), (258, 0.021843130875951328), (987, 0.021763290405304968), (1051, 0.021675753746276533), (242, 0.021663220224007587), (662, 0.021630084684390722), (698, 0.021619298168327864), (314, 0.021527265596877232), (684, 0.02137352901593812), (942, 0.021347494923392316), (937, 0.02134165437311832), (834, 0.020907225276428444), (264, 0.020866473990200723), (75, 0.020801900638117245), (741, 0.020783143246417692), (732, 0.02064175072277795), (419, 0.02052838172795414), (779, 0.020476599969704808), (310, 0.020259281637214896), (812, 0.02022729422478247), (916, 0.020094707219706534), (475, 0.020029326572760412), (451, 0.01972543774324116), (350, 0.019604453240839276), (401, 0.01956694105369753), (634, 0.01950643262504163), (91, 0.01949565446417906), (896, 0.019428730109870163), (181, 0.01934608932603221), (683, 0.019341659790216372), (46, 0.019287791969814953), (288, 0.01917356327442355), (398, 0.01910820583737597), (214, 0.018965313587974337), (464, 0.018913781239651373), (688, 0.018912114109158436), (1033, 0.018779117505029884), (135, 0.018744800912619115), (939, 0.018620481660322787), (854, 0.018608259606582016), (207, 0.018593271674679775), (300, 0.018510556055749115), (185, 0.01845463731965465), (391, 0.01841147167107203), (21, 0.018271202419503897), (1049, 0.018250179287111614), (73, 0.018137668183549806), (788, 0.018117998758689195), (113, 0.018054023580666174), (160, 0.018023056691810896), (845, 0.017786014908692093), (770, 0.017772983677556815), (68, 0.01774797247638371), (747, 0.0177479064281584), (101, 0.017724178833652147), (924, 0.017701998158177724), (555, 0.017543904952324375), (296, 0.01746816702970706), (542, 0.017440308650125753), (773, 0.017380422709840623), (919, 0.017374267464390403), (388, 0.017368069036063076), (655, 0.017225479154012586), (561, 0.017141764142205806), (121, 0.017099904993916393), (576, 0.017076942873813377), (433, 0.01678533215075229), (739, 0.016741440908516775), (802, 0.01655516372326924), (567, 0.016455926073368623), (862, 0.016445468203636057), (777, 0.015948295424386534), (768, 0.015927691242517986), (708, 0.01585651116639342), (551, 0.01574239633079782), (494, 0.015550851141631607), (723, 0.015242475250328213), (586, 0.014876892384330247), (34, 0.014586982740185996), (25, 0.01417335717254778), (865, 0.013791947766362942), (1080, 0.013680426233600024), (217, 0.013508070327899403), (402, 0.013339979322074135), (584, 0.013207793702318744), (366, 0.013163721728045702), (934, 0.013014822785097786), (156, 0.012749005105567191), (180, 0.012647837963459278), (753, 0.012375209048294599), (904, 0.012274879492686182), (595, 0.01226787381050264), (521, 0.011849865365467883), (231, 0.011836916585385469), (1000, 0.011712557883018296), (311, 0.011554780988383322), (727, 0.011493861380888832), (1047, 0.011336619868514865), (520, 0.011108240681473553), (1002, 0.010944968589877755), (570, 0.010833484578422738), (294, 0.010730504263187333), (814, 0.010655883518157922), (92, 0.010592703035963462), (539, 0.010276834224898277), (653, 0.010205959430850507), (1028, 0.010118080179003773), (806, 0.010104218195735854), (18, 0.009452462668379069), (748, 0.009446073106599513), (406, 0.008933358316664019), (5, 0.008375183888552708), (56, 0.007109346027882685), (392, 0.006151607225910027), (921, 0.005036459975669663), (1048, 0.004903785822192783), (179, 0.0034840386139306147), (878, 0.0034020618298004285), (523, 0.002622880888558627), (404, 0.002560482359003865), (801, 0.002554720859149101), (575, 0.00251106136620493), (765, 0.002480514492750634), (731, 0.0021011267298450542), (411, 0.001984331219007639), (234, 0.0019401515317208145), (230, 0.0016877093649590664), (315, 0.0015153163380743886), (531, 0.0012983335747286614), (572, 0.001236805206797198), (11, 0.0), (312, 0.0), (538, 0.0), (581, 0.0), (596, 0.0), (810, 0.0)]\n"
          ]
        }
      ]
    },
    {
      "cell_type": "code",
      "source": [
        "print(\"These are some suggestion for your selected movie: \\n\")\n",
        "\n",
        "i = 1\n",
        "\n",
        "for anime in sorted_similar_anime:\n",
        "  index = anime[0]\n",
        "  title_from_index = anime_data[anime_data.index==index]['title'].values[0]\n",
        "  if (i<31):\n",
        "    print(i, '.',title_from_index)\n",
        "    i+=1"
      ],
      "metadata": {
        "colab": {
          "base_uri": "https://localhost:8080/"
        },
        "id": "vuX1FxfXsMOj",
        "outputId": "f050d7cc-7c87-4802-9716-c4386a64dc04"
      },
      "execution_count": 35,
      "outputs": [
        {
          "output_type": "stream",
          "name": "stdout",
          "text": [
            "These are some suggestion for your selected movie: \n",
            "\n",
            "1 . Chōdenji Machine Voltes V\n",
            "2 . Dancougar – Super Beast Machine God\n",
            "3 . Mobile Suit Gundam\n",
            "4 . The Wonderful Wizard of Oz\n",
            "5 . Air Master\n",
            "6 . Straight Title Robot Anime\n",
            "7 . Eat-Man\n",
            "8 . True Tears\n",
            "9 . Dai-Guard\n",
            "10 . gdgd Fairies\n",
            "11 . VS Knight Lamune & 40 Fire\n",
            "12 . Dragon Ball Z\n",
            "13 . Kekkaishi\n",
            "14 . Tetsujin 28\n",
            "15 . Space Warrior Baldios\n",
            "16 . Robot Girls Z\n",
            "17 . Moyashimon\n",
            "18 . Digimon Fusion\n",
            "19 . Digimon Ghost Game\n",
            "20 . Arcadia of My Youth: Endless Orbit SSX\n",
            "21 . The Wonderful Adventures of Nils\n",
            "22 . Brave 10\n",
            "23 . Osomatsu-kun\n",
            "24 . Hyakko\n",
            "25 . Mon Colle Knights\n",
            "26 . リルぷりっ\n",
            "27 . Heroman\n",
            "28 . Mazinger Edition Z: The Impact!\n",
            "29 . Beyblade: Metal Fusion\n",
            "30 . Tales of Phantasia: The Animation\n"
          ]
        }
      ]
    },
    {
      "cell_type": "code",
      "source": [
        "anime_name = input(\"Enter Anime name to get suggestion: \")\n",
        "\n",
        "list_of_all_anime_titles = anime_data['title'].tolist()\n",
        "\n",
        "finding_close_match = difflib.get_close_matches(anime_name, list_of_all_anime_titles)\n",
        "\n",
        "close_match = finding_close_match[0]\n",
        "\n",
        "index_of_the_anime = anime_data[anime_data.title == close_match]['index'].values[0]\n",
        "\n",
        "similarity_score = list(enumerate(similarity[index_of_the_anime]))\n",
        "\n",
        "sorted_similar_anime = sorted(similarity_score, key = lambda x:x[1], reverse = True) \n",
        "\n",
        "print(\"These are some suggestion for your selected Anime: \\n\")\n",
        "\n",
        "i = 1\n",
        "\n",
        "for anime in sorted_similar_anime:\n",
        "  index = anime[0]\n",
        "  title_from_index = anime_data[anime_data.index==index]['title'].values[0]\n",
        "  if (i<31):\n",
        "    print(i, '.',title_from_index)\n",
        "    i+=1"
      ],
      "metadata": {
        "colab": {
          "base_uri": "https://localhost:8080/"
        },
        "id": "ZOMBQtY9tVVa",
        "outputId": "83fabbb9-5c2d-48c8-b6f5-4b0546cf5a11"
      },
      "execution_count": 41,
      "outputs": [
        {
          "output_type": "stream",
          "name": "stdout",
          "text": [
            "Enter Anime name to get suggestion: Dragon ball\n",
            "These are some suggestion for your selected Anime: \n",
            "\n",
            "1 . Fist of the North Star\n",
            "2 . DD Fist of the North Star\n",
            "3 . Stellvia of the Universe\n",
            "4 . The Faraway Paladin\n",
            "5 . The Asterisk War\n",
            "6 . Dr. Stone\n",
            "7 . Assassination Classroom\n",
            "8 . Somali and the Forest Spirit\n",
            "9 . Chi's Sweet Home\n",
            "10 . The Irresponsible Galaxy Tylor\n",
            "11 . Arpeggio of Blue Steel: Ars Nova\n",
            "12 . Fist of the Blue Sky: Regenesis\n",
            "13 . To the Abandoned Sacred Beasts\n",
            "14 . High School Prodigies Have It Easy Even in Another World!\n",
            "15 . Twin Star Exorcists\n",
            "16 . Xuan Yuan Sword Luminary\n",
            "17 . Conception\n",
            "18 . Attack on Titan\n",
            "19 . WorldEnd: What are you doing at the end of the world? Are you busy? Will you save us?\n",
            "20 . HAKYU HOSHIN ENGI\n",
            "21 . Saiyuki Reload Blast\n",
            "22 . Air Master\n",
            "23 . The World's Finest Assassin Gets Reincarnated in Another World as an Aristocrat\n",
            "24 . Soul Hunter\n",
            "25 . Muv-Luv Alternative: Total Eclipse\n",
            "26 . Burning Kabaddi\n",
            "27 . Blassreiter\n",
            "28 . Arifureta: From Commonplace to World's Strongest\n",
            "29 . Zombieland Saga\n",
            "30 . Tetsujin 28\n"
          ]
        }
      ]
    },
    {
      "cell_type": "code",
      "source": [
        ""
      ],
      "metadata": {
        "id": "dXvs-4tauGZ0"
      },
      "execution_count": 39,
      "outputs": []
    }
  ]
}